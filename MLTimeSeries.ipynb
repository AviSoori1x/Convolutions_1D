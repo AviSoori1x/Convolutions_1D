{
  "nbformat": 4,
  "nbformat_minor": 0,
  "metadata": {
    "colab": {
      "name": "MLTimeSeries.ipynb",
      "provenance": [],
      "collapsed_sections": []
    },
    "kernelspec": {
      "name": "python3",
      "display_name": "Python 3"
    },
    "language_info": {
      "name": "python"
    },
    "accelerator": "GPU"
  },
  "cells": [
    {
      "cell_type": "code",
      "metadata": {
        "colab": {
          "base_uri": "https://localhost:8080/"
        },
        "id": "7an7tgHE-qD7",
        "outputId": "97b7e50f-6a79-46df-feb9-0aa6ca3e7815"
      },
      "source": [
        "import tensorflow as tf\n",
        "import numpy as np \n",
        "import matplotlib.pyplot as plt\n",
        "print(tf.__version__)"
      ],
      "execution_count": null,
      "outputs": [
        {
          "output_type": "stream",
          "text": [
            "2.4.1\n"
          ],
          "name": "stdout"
        }
      ]
    },
    {
      "cell_type": "code",
      "metadata": {
        "colab": {
          "base_uri": "https://localhost:8080/"
        },
        "id": "8LXPbt4dAU3q",
        "outputId": "b66e7cad-d9c1-45a6-eaec-12a4a15d74d7"
      },
      "source": [
        "#First Create a dataset using a range, which simplu makes the dataset contain the values 0 to n-1, where n is, in this case 10\n",
        "dataset = tf.data.Dataset.range(10)\n",
        "\n",
        "\n",
        "#Split the dataset into windows of 5 items.\n",
        "dataset = dataset.window(5, shift=1, drop_remainder=True)\n",
        "dataset = dataset.flat_map(lambda window: window.batch(5))\n",
        "for window in dataset:\n",
        "  print(window.numpy())\n",
        "  "
      ],
      "execution_count": null,
      "outputs": [
        {
          "output_type": "stream",
          "text": [
            "[0 1 2 3 4]\n",
            "[1 2 3 4 5]\n",
            "[2 3 4 5 6]\n",
            "[3 4 5 6 7]\n",
            "[4 5 6 7 8]\n",
            "[5 6 7 8 9]\n"
          ],
          "name": "stdout"
        }
      ]
    },
    {
      "cell_type": "code",
      "metadata": {
        "colab": {
          "base_uri": "https://localhost:8080/"
        },
        "id": "naTx_zwdVAdt",
        "outputId": "4e4d4cae-3c1c-41a8-efa3-97944944732f"
      },
      "source": [
        "dataset = tf.data.Dataset.range(10)\n",
        "dataset = dataset.window(5, shift=1, drop_remainder=True)\n",
        "dataset = dataset.flat_map(lambda window: window.batch(5))\n",
        "dataset = dataset.map(lambda window: (window[:-1], window[-1:]))\n",
        "for x, y in dataset:\n",
        "  print(x.numpy(), y.numpy())"
      ],
      "execution_count": null,
      "outputs": [
        {
          "output_type": "stream",
          "text": [
            "[0 1 2 3] [4]\n",
            "[1 2 3 4] [5]\n",
            "[2 3 4 5] [6]\n",
            "[3 4 5 6] [7]\n",
            "[4 5 6 7] [8]\n",
            "[5 6 7 8] [9]\n"
          ],
          "name": "stdout"
        }
      ]
    },
    {
      "cell_type": "code",
      "metadata": {
        "colab": {
          "base_uri": "https://localhost:8080/"
        },
        "id": "oQnQtI3qVqdX",
        "outputId": "f99da4b6-80c1-47a8-b179-b97800d520a7"
      },
      "source": [
        "dataset = tf.data.Dataset.range(10)\n",
        "dataset = dataset.window(5, shift=1, drop_remainder=True)\n",
        "dataset = dataset.flat_map(lambda window: window.batch(5))\n",
        "dataset = dataset.map(lambda window: (window[:-1], window[-1:]))\n",
        "dataset = dataset.shuffle(buffer_size=10)\n",
        "dataset = dataset.batch(2).prefetch(1)\n",
        "for x, y in dataset:\n",
        "  print(\"x= \", x.numpy())\n",
        "  print(\"y= \", y.numpy())\n"
      ],
      "execution_count": null,
      "outputs": [
        {
          "output_type": "stream",
          "text": [
            "x=  [[2 3 4 5]\n",
            " [4 5 6 7]]\n",
            "y=  [[6]\n",
            " [8]]\n",
            "x=  [[5 6 7 8]\n",
            " [3 4 5 6]]\n",
            "y=  [[9]\n",
            " [7]]\n",
            "x=  [[1 2 3 4]\n",
            " [0 1 2 3]]\n",
            "y=  [[5]\n",
            " [4]]\n"
          ],
          "name": "stdout"
        }
      ]
    },
    {
      "cell_type": "code",
      "metadata": {
        "id": "IOB2tHPOWj0H"
      },
      "source": [
        "def trend(time, slope = 0):\n",
        "  return slope*time\n",
        "\n",
        "def seasonal_pattern(season_time):\n",
        "  return np.where(season_time< 0.4, np.cos(season_time*2*np.pi), 1/np.exp(3*season_time))\n",
        "\n",
        "def seasonality(time, period, amplitude=1, phase=0):\n",
        "  season_time = ((time+phase)%period)/ period\n",
        "  return amplitude * seasonal_pattern(season_time)\n",
        "\n",
        "def noise(time, noise_level=1, seed=None):\n",
        "  rnd = np.random.RandomState(seed)\n",
        "  return rnd.randn(len(time))*noise_level\n",
        "\n",
        "time = np.arange(4*365 +1, dtype=\"float32\")\n",
        "\n",
        "series = trend(time, 0.1)\n",
        "baseline=10\n",
        "amplitude=20\n",
        "slope=0.09\n",
        "noise_level=5\n",
        "\n",
        "series = baseline+trend(time, slope)\n",
        "series+=seasonality(time, period=365, amplitude=amplitude)\n",
        "series += noise(time, noise_level, seed=42)\n"
      ],
      "execution_count": null,
      "outputs": []
    },
    {
      "cell_type": "code",
      "metadata": {
        "id": "9Cp4y1dZgGxq"
      },
      "source": [
        "def windowed_dataset(series, window_size, batch_size, shuffle_buffer):\n",
        "  dataset = tf.data.Dataset.from_tensor_slices(series)\n",
        "  dataset = dataset.window(window_size+1, shift=1, drop_remainder=True)\n",
        "  dataset = dataset.flat_map(lambda window: window.batch(window_size+1))\n",
        "  dataset = dataset.shuffle(shuffle_buffer).map(lambda window: (window[:-1], window[-1]))\n",
        "  dataset = dataset.batch(batch_size).prefetch(1)\n",
        "  return dataset"
      ],
      "execution_count": null,
      "outputs": []
    },
    {
      "cell_type": "code",
      "metadata": {
        "id": "0Pg69IV0mSD7"
      },
      "source": [
        "#get a training ready dataset\n",
        "split_time=1000\n",
        "time_train= time[:split_time]\n",
        "x_train = series[:split_time]\n",
        "time_valid = time[split_time:]\n",
        "x_valid = series[split_time:]\n",
        "window_size=20\n",
        "batch_size=32\n",
        "shuffle_buffer_size=1000\n",
        "dataset = windowed_dataset(x_train, window_size, batch_size, shuffle_buffer_size)"
      ],
      "execution_count": null,
      "outputs": []
    },
    {
      "cell_type": "code",
      "metadata": {
        "colab": {
          "base_uri": "https://localhost:8080/"
        },
        "id": "EW2V5ruonTYz",
        "outputId": "33136bce-d352-4c94-9f22-351f54142757"
      },
      "source": [
        "#inspect what the dataset looks like \n",
        "dataset = windowed_dataset(series, window_size, 1, shuffle_buffer_size)\n",
        "for feature, label in dataset.take(1):\n",
        "  print(feature)\n",
        "  print(label)"
      ],
      "execution_count": null,
      "outputs": [
        {
          "output_type": "stream",
          "text": [
            "tf.Tensor(\n",
            "[[100.87476  101.50936  102.13909  101.593666 102.63381  106.13124\n",
            "  100.53356  103.16166   99.23384  106.94918   96.43291  108.88604\n",
            "   99.74721   92.86098  100.72242   96.743866 104.419754  97.02101\n",
            "   98.121     90.97218 ]], shape=(1, 20), dtype=float32)\n",
            "tf.Tensor([98.2265], shape=(1,), dtype=float32)\n"
          ],
          "name": "stdout"
        }
      ]
    },
    {
      "cell_type": "code",
      "metadata": {
        "id": "q8egkAQvnoz4"
      },
      "source": [
        "dataset = windowed_dataset(series, window_size, batch_size, shuffle_buffer_size)\n",
        "model = tf.keras.models.Sequential([\n",
        "                                    tf.keras.layers.Dense(10, input_shape=[window_size],\n",
        "                                                          activation='relu'),\n",
        "                                    tf.keras.layers.Dense(10, activation='relu'),\n",
        "                                    tf.keras.layers.Dense(1)\n",
        "])"
      ],
      "execution_count": null,
      "outputs": []
    },
    {
      "cell_type": "code",
      "metadata": {
        "id": "HZKSRQscoR9m"
      },
      "source": [
        "model.compile(loss='mse', optimizer=tf.keras.optimizers.SGD(lr=1e-6, momentum=0.9))\n"
      ],
      "execution_count": null,
      "outputs": []
    },
    {
      "cell_type": "code",
      "metadata": {
        "colab": {
          "base_uri": "https://localhost:8080/"
        },
        "id": "iNcHI7aQom4C",
        "outputId": "78e2ce1c-258c-4608-d122-fd7632d5b4a6"
      },
      "source": [
        "model.fit(dataset, epochs=100, verbose=1)"
      ],
      "execution_count": null,
      "outputs": [
        {
          "output_type": "stream",
          "text": [
            "Epoch 1/100\n",
            "46/46 [==============================] - 2s 5ms/step - loss: 3110.9122\n",
            "Epoch 2/100\n",
            "46/46 [==============================] - 0s 3ms/step - loss: 61.9048\n",
            "Epoch 3/100\n",
            "46/46 [==============================] - 0s 4ms/step - loss: 55.4198\n",
            "Epoch 4/100\n",
            "46/46 [==============================] - 0s 3ms/step - loss: 63.4093\n",
            "Epoch 5/100\n",
            "46/46 [==============================] - 0s 4ms/step - loss: 67.5115\n",
            "Epoch 6/100\n",
            "46/46 [==============================] - 0s 3ms/step - loss: 52.6798\n",
            "Epoch 7/100\n",
            "46/46 [==============================] - 0s 3ms/step - loss: 52.6002\n",
            "Epoch 8/100\n",
            "46/46 [==============================] - 0s 4ms/step - loss: 49.5577\n",
            "Epoch 9/100\n",
            "46/46 [==============================] - 0s 4ms/step - loss: 48.9282\n",
            "Epoch 10/100\n",
            "46/46 [==============================] - 0s 4ms/step - loss: 46.3486\n",
            "Epoch 11/100\n",
            "46/46 [==============================] - 0s 4ms/step - loss: 47.1392\n",
            "Epoch 12/100\n",
            "46/46 [==============================] - 0s 3ms/step - loss: 45.3032\n",
            "Epoch 13/100\n",
            "46/46 [==============================] - 0s 4ms/step - loss: 49.8612\n",
            "Epoch 14/100\n",
            "46/46 [==============================] - 0s 4ms/step - loss: 61.8265\n",
            "Epoch 15/100\n",
            "46/46 [==============================] - 0s 4ms/step - loss: 45.0117\n",
            "Epoch 16/100\n",
            "46/46 [==============================] - 0s 4ms/step - loss: 45.7231\n",
            "Epoch 17/100\n",
            "46/46 [==============================] - 0s 4ms/step - loss: 50.6896\n",
            "Epoch 18/100\n",
            "46/46 [==============================] - 0s 4ms/step - loss: 45.5609\n",
            "Epoch 19/100\n",
            "46/46 [==============================] - 0s 4ms/step - loss: 44.2673\n",
            "Epoch 20/100\n",
            "46/46 [==============================] - 0s 4ms/step - loss: 55.5280\n",
            "Epoch 21/100\n",
            "46/46 [==============================] - 0s 3ms/step - loss: 43.1142\n",
            "Epoch 22/100\n",
            "46/46 [==============================] - 0s 3ms/step - loss: 41.3853\n",
            "Epoch 23/100\n",
            "46/46 [==============================] - 0s 3ms/step - loss: 41.8308\n",
            "Epoch 24/100\n",
            "46/46 [==============================] - 0s 4ms/step - loss: 44.5053\n",
            "Epoch 25/100\n",
            "46/46 [==============================] - 0s 3ms/step - loss: 43.4270\n",
            "Epoch 26/100\n",
            "46/46 [==============================] - 0s 4ms/step - loss: 56.4568\n",
            "Epoch 27/100\n",
            "46/46 [==============================] - 0s 4ms/step - loss: 42.2137\n",
            "Epoch 28/100\n",
            "46/46 [==============================] - 0s 4ms/step - loss: 38.7817\n",
            "Epoch 29/100\n",
            "46/46 [==============================] - 0s 4ms/step - loss: 38.5063\n",
            "Epoch 30/100\n",
            "46/46 [==============================] - 0s 3ms/step - loss: 40.7051\n",
            "Epoch 31/100\n",
            "46/46 [==============================] - 0s 4ms/step - loss: 42.2838\n",
            "Epoch 32/100\n",
            "46/46 [==============================] - 0s 3ms/step - loss: 41.5731\n",
            "Epoch 33/100\n",
            "46/46 [==============================] - 0s 3ms/step - loss: 40.1815\n",
            "Epoch 34/100\n",
            "46/46 [==============================] - 0s 4ms/step - loss: 41.3043\n",
            "Epoch 35/100\n",
            "46/46 [==============================] - 0s 4ms/step - loss: 43.9642\n",
            "Epoch 36/100\n",
            "46/46 [==============================] - 0s 3ms/step - loss: 45.3221\n",
            "Epoch 37/100\n",
            "46/46 [==============================] - 0s 4ms/step - loss: 38.2086\n",
            "Epoch 38/100\n",
            "46/46 [==============================] - 0s 4ms/step - loss: 43.7103\n",
            "Epoch 39/100\n",
            "46/46 [==============================] - 0s 3ms/step - loss: 37.0272\n",
            "Epoch 40/100\n",
            "46/46 [==============================] - 0s 4ms/step - loss: 38.3407\n",
            "Epoch 41/100\n",
            "46/46 [==============================] - 0s 3ms/step - loss: 38.2216\n",
            "Epoch 42/100\n",
            "46/46 [==============================] - 0s 3ms/step - loss: 39.1835\n",
            "Epoch 43/100\n",
            "46/46 [==============================] - 0s 3ms/step - loss: 35.5932\n",
            "Epoch 44/100\n",
            "46/46 [==============================] - 0s 4ms/step - loss: 37.9730\n",
            "Epoch 45/100\n",
            "46/46 [==============================] - 0s 4ms/step - loss: 41.5433\n",
            "Epoch 46/100\n",
            "46/46 [==============================] - 0s 4ms/step - loss: 49.0052\n",
            "Epoch 47/100\n",
            "46/46 [==============================] - 0s 3ms/step - loss: 36.4943\n",
            "Epoch 48/100\n",
            "46/46 [==============================] - 0s 4ms/step - loss: 35.7910\n",
            "Epoch 49/100\n",
            "46/46 [==============================] - 0s 3ms/step - loss: 40.0902\n",
            "Epoch 50/100\n",
            "46/46 [==============================] - 0s 3ms/step - loss: 37.9335\n",
            "Epoch 51/100\n",
            "46/46 [==============================] - 0s 4ms/step - loss: 34.3474\n",
            "Epoch 52/100\n",
            "46/46 [==============================] - 0s 4ms/step - loss: 41.4554\n",
            "Epoch 53/100\n",
            "46/46 [==============================] - 0s 3ms/step - loss: 36.6651\n",
            "Epoch 54/100\n",
            "46/46 [==============================] - 0s 4ms/step - loss: 35.1916\n",
            "Epoch 55/100\n",
            "46/46 [==============================] - 0s 4ms/step - loss: 36.4321\n",
            "Epoch 56/100\n",
            "46/46 [==============================] - 0s 3ms/step - loss: 39.2889\n",
            "Epoch 57/100\n",
            "46/46 [==============================] - 0s 3ms/step - loss: 37.1026\n",
            "Epoch 58/100\n",
            "46/46 [==============================] - 0s 3ms/step - loss: 38.6112\n",
            "Epoch 59/100\n",
            "46/46 [==============================] - 0s 3ms/step - loss: 43.9089\n",
            "Epoch 60/100\n",
            "46/46 [==============================] - 0s 4ms/step - loss: 36.1232\n",
            "Epoch 61/100\n",
            "46/46 [==============================] - 0s 3ms/step - loss: 33.4064\n",
            "Epoch 62/100\n",
            "46/46 [==============================] - 0s 4ms/step - loss: 35.1258\n",
            "Epoch 63/100\n",
            "46/46 [==============================] - 0s 3ms/step - loss: 35.7433\n",
            "Epoch 64/100\n",
            "46/46 [==============================] - 0s 4ms/step - loss: 36.3575\n",
            "Epoch 65/100\n",
            "46/46 [==============================] - 0s 3ms/step - loss: 33.8256\n",
            "Epoch 66/100\n",
            "46/46 [==============================] - 0s 3ms/step - loss: 37.6727\n",
            "Epoch 67/100\n",
            "46/46 [==============================] - 0s 3ms/step - loss: 33.0862\n",
            "Epoch 68/100\n",
            "46/46 [==============================] - 0s 4ms/step - loss: 38.4297\n",
            "Epoch 69/100\n",
            "46/46 [==============================] - 0s 4ms/step - loss: 40.3390\n",
            "Epoch 70/100\n",
            "46/46 [==============================] - 0s 3ms/step - loss: 57.3090\n",
            "Epoch 71/100\n",
            "46/46 [==============================] - 0s 3ms/step - loss: 36.6586\n",
            "Epoch 72/100\n",
            "46/46 [==============================] - 0s 3ms/step - loss: 36.6060\n",
            "Epoch 73/100\n",
            "46/46 [==============================] - 0s 3ms/step - loss: 36.4265\n",
            "Epoch 74/100\n",
            "46/46 [==============================] - 0s 3ms/step - loss: 33.8786\n",
            "Epoch 75/100\n",
            "46/46 [==============================] - 0s 3ms/step - loss: 35.2350\n",
            "Epoch 76/100\n",
            "46/46 [==============================] - 0s 3ms/step - loss: 36.6106\n",
            "Epoch 77/100\n",
            "46/46 [==============================] - 0s 4ms/step - loss: 36.5009\n",
            "Epoch 78/100\n",
            "46/46 [==============================] - 0s 3ms/step - loss: 35.4477\n",
            "Epoch 79/100\n",
            "46/46 [==============================] - 0s 4ms/step - loss: 37.6014\n",
            "Epoch 80/100\n",
            "46/46 [==============================] - 0s 3ms/step - loss: 35.3131\n",
            "Epoch 81/100\n",
            "46/46 [==============================] - 0s 3ms/step - loss: 37.4285\n",
            "Epoch 82/100\n",
            "46/46 [==============================] - 0s 3ms/step - loss: 39.2181\n",
            "Epoch 83/100\n",
            "46/46 [==============================] - 0s 3ms/step - loss: 33.7356\n",
            "Epoch 84/100\n",
            "46/46 [==============================] - 0s 3ms/step - loss: 35.5910\n",
            "Epoch 85/100\n",
            "46/46 [==============================] - 0s 4ms/step - loss: 33.1699\n",
            "Epoch 86/100\n",
            "46/46 [==============================] - 0s 3ms/step - loss: 34.8573\n",
            "Epoch 87/100\n",
            "46/46 [==============================] - 0s 3ms/step - loss: 37.3755\n",
            "Epoch 88/100\n",
            "46/46 [==============================] - 0s 3ms/step - loss: 35.9739\n",
            "Epoch 89/100\n",
            "46/46 [==============================] - 0s 4ms/step - loss: 37.6455\n",
            "Epoch 90/100\n",
            "46/46 [==============================] - 0s 4ms/step - loss: 36.2173\n",
            "Epoch 91/100\n",
            "46/46 [==============================] - 0s 3ms/step - loss: 34.0013\n",
            "Epoch 92/100\n",
            "46/46 [==============================] - 0s 3ms/step - loss: 38.1945\n",
            "Epoch 93/100\n",
            "46/46 [==============================] - 0s 3ms/step - loss: 36.7270\n",
            "Epoch 94/100\n",
            "46/46 [==============================] - 0s 3ms/step - loss: 39.9308\n",
            "Epoch 95/100\n",
            "46/46 [==============================] - 0s 4ms/step - loss: 34.2053\n",
            "Epoch 96/100\n",
            "46/46 [==============================] - 0s 3ms/step - loss: 35.3306\n",
            "Epoch 97/100\n",
            "46/46 [==============================] - 0s 3ms/step - loss: 38.3569\n",
            "Epoch 98/100\n",
            "46/46 [==============================] - 0s 3ms/step - loss: 39.1038\n",
            "Epoch 99/100\n",
            "46/46 [==============================] - 0s 4ms/step - loss: 33.8481\n",
            "Epoch 100/100\n",
            "46/46 [==============================] - 0s 3ms/step - loss: 32.7615\n"
          ],
          "name": "stdout"
        },
        {
          "output_type": "execute_result",
          "data": {
            "text/plain": [
              "<tensorflow.python.keras.callbacks.History at 0x7f1665c832d0>"
            ]
          },
          "metadata": {
            "tags": []
          },
          "execution_count": 11
        }
      ]
    },
    {
      "cell_type": "code",
      "metadata": {
        "colab": {
          "base_uri": "https://localhost:8080/"
        },
        "id": "kQr3PPVgovTP",
        "outputId": "6f85322f-9c58-4ad4-f983-87a466db4a1c"
      },
      "source": [
        "print(series[1000:1020])"
      ],
      "execution_count": null,
      "outputs": [
        {
          "output_type": "stream",
          "text": [
            "[109.170746 106.86935  102.61668   99.15634  105.95478  104.503876\n",
            " 107.08533  105.858284 108.00339  100.15279  109.4894   103.96404\n",
            " 113.426094  99.67773  111.87749  104.26137  100.08899  101.00105\n",
            " 101.893265 105.69048 ]\n"
          ],
          "name": "stdout"
        }
      ]
    },
    {
      "cell_type": "code",
      "metadata": {
        "colab": {
          "base_uri": "https://localhost:8080/"
        },
        "id": "oP_TLFmP-gf3",
        "outputId": "dcea4d94-30ac-4417-fec7-b975f93058ed"
      },
      "source": [
        "print(series[1020])"
      ],
      "execution_count": null,
      "outputs": [
        {
          "output_type": "stream",
          "text": [
            "106.258606\n"
          ],
          "name": "stdout"
        }
      ]
    },
    {
      "cell_type": "code",
      "metadata": {
        "colab": {
          "base_uri": "https://localhost:8080/"
        },
        "id": "p1cpEF51-je-",
        "outputId": "6c247a5d-d7e9-40b4-ed84-525fc37ea1ef"
      },
      "source": [
        "print(model.predict(series[1000:1020][np.newaxis]))"
      ],
      "execution_count": null,
      "outputs": [
        {
          "output_type": "stream",
          "text": [
            "[[101.52576]]\n"
          ],
          "name": "stdout"
        }
      ]
    },
    {
      "cell_type": "code",
      "metadata": {
        "id": "RVUhQy6W-r9u"
      },
      "source": [
        "#print(series[start_point:start_point+window_size])\n",
        "#print(series[start_point+window_size])\n",
        "#print(model.predict(series[start_point: start_poimt+window_size][np.newaxis]))"
      ],
      "execution_count": null,
      "outputs": []
    },
    {
      "cell_type": "code",
      "metadata": {
        "id": "ayRXVdixA8Sv"
      },
      "source": [
        "#Exploring the overall prediction \n",
        "forecast = []\n",
        "for time in range(len(series)- window_size):\n",
        "  forecast.append(model.predict(series[time:time+window_size][np.newaxis]))"
      ],
      "execution_count": null,
      "outputs": []
    },
    {
      "cell_type": "code",
      "metadata": {
        "id": "r_zqIuC0CAfR"
      },
      "source": [
        "forecast = forecast[split_time-window_size:]\n",
        "results = np.array(forecast)[:,0,0]"
      ],
      "execution_count": null,
      "outputs": []
    },
    {
      "cell_type": "code",
      "metadata": {
        "id": "e_jg7_ucDtdH"
      },
      "source": [
        "def plot_series(time, series, format=\"-\", start=0, end=None):\n",
        "    plt.plot(time[start:end], series[start:end], format)\n",
        "    plt.xlabel(\"Time\")\n",
        "    plt.ylabel(\"Value\")\n",
        "    plt.grid(True)"
      ],
      "execution_count": null,
      "outputs": []
    },
    {
      "cell_type": "code",
      "metadata": {
        "colab": {
          "base_uri": "https://localhost:8080/",
          "height": 388
        },
        "id": "B4S6rzKVDGjy",
        "outputId": "ff3458db-66a4-4689-ca0b-59e780b56982"
      },
      "source": [
        "plt.figure(figsize=(10,6))\n",
        "plot_series(time_valid, x_valid)\n",
        "plot_series(time_valid, results)"
      ],
      "execution_count": null,
      "outputs": [
        {
          "output_type": "display_data",
          "data": {
            "image/png": "[encoded data removed]",
            "text/plain": [
              "<Figure size 720x432 with 1 Axes>"
            ]
          },
          "metadata": {
            "tags": [],
            "needs_background": "light"
          }
        }
      ]
    },
    {
      "cell_type": "code",
      "metadata": {
        "colab": {
          "base_uri": "https://localhost:8080/"
        },
        "id": "XejfUKedDcHm",
        "outputId": "e8707132-0e97-4c75-8048-d63eb1673510"
      },
      "source": [
        "tf.keras.metrics.mean_absolute_error(x_valid, results).numpy()"
      ],
      "execution_count": null,
      "outputs": [
        {
          "output_type": "execute_result",
          "data": {
            "text/plain": [
              "5.204118"
            ]
          },
          "metadata": {
            "tags": []
          },
          "execution_count": 20
        }
      ]
    },
    {
      "cell_type": "code",
      "metadata": {
        "id": "a-nPIYfjEI7l"
      },
      "source": [
        "lr_schedule = tf.keras.callbacks.LearningRateScheduler(lambda epoch: 1e-8*10**(epoch/20))"
      ],
      "execution_count": null,
      "outputs": []
    },
    {
      "cell_type": "code",
      "metadata": {
        "id": "-G8lxUBnJmeF"
      },
      "source": [
        "optimizer = tf.keras.optimizers.SGD(lr=1e-8, momentum=0.9)\n",
        "model.compile(loss='mse', optimizer=optimizer)\n",
        "history =model.fit(dataset, epochs=100, callbacks=[lr_schedule], verbose=0)"
      ],
      "execution_count": null,
      "outputs": []
    },
    {
      "cell_type": "code",
      "metadata": {
        "colab": {
          "base_uri": "https://localhost:8080/",
          "height": 290
        },
        "id": "Flpy_VjQKKHs",
        "outputId": "42ffc69e-4157-46c6-aa29-ff5640032838"
      },
      "source": [
        "lrs= 1e-8*(10**(np.arange(100)/20))\n",
        "plt.semilogx(lrs, history.history['loss'])\n",
        "plt.axis([1e-8, 1e-3, 0, 300])"
      ],
      "execution_count": null,
      "outputs": [
        {
          "output_type": "execute_result",
          "data": {
            "text/plain": [
              "(1e-08, 0.001, 0.0, 300.0)"
            ]
          },
          "metadata": {
            "tags": []
          },
          "execution_count": 23
        },
        {
          "output_type": "display_data",
          "data": {
            "image/png": "[encoded data removed]",
            "text/plain": [
              "<Figure size 432x288 with 1 Axes>"
            ]
          },
          "metadata": {
            "tags": [],
            "needs_background": "light"
          }
        }
      ]
    },
    {
      "cell_type": "code",
      "metadata": {
        "colab": {
          "base_uri": "https://localhost:8080/"
        },
        "id": "E-38Y-oILp13",
        "outputId": "6184741e-f306-4dc5-8f59-47d8bacd33d8"
      },
      "source": [
        "model.compile(loss='mse', optimizer=tf.keras.optimizers.SGD(lr=1e-7, momentum=0.9))\n",
        "model.fit(dataset, epochs=100, verbose=1)\n"
      ],
      "execution_count": null,
      "outputs": [
        {
          "output_type": "stream",
          "text": [
            "Epoch 1/100\n",
            "46/46 [==============================] - 0s 3ms/step - loss: 1787.0593\n",
            "Epoch 2/100\n",
            "46/46 [==============================] - 0s 4ms/step - loss: 1804.8011\n",
            "Epoch 3/100\n",
            "46/46 [==============================] - 0s 4ms/step - loss: 1743.5618\n",
            "Epoch 4/100\n",
            "46/46 [==============================] - 0s 3ms/step - loss: 1704.8151\n",
            "Epoch 5/100\n",
            "46/46 [==============================] - 0s 3ms/step - loss: 1698.6137\n",
            "Epoch 6/100\n",
            "46/46 [==============================] - 0s 3ms/step - loss: 1754.3207\n",
            "Epoch 7/100\n",
            "46/46 [==============================] - 0s 4ms/step - loss: 1755.0458\n",
            "Epoch 8/100\n",
            "46/46 [==============================] - 0s 4ms/step - loss: 1748.1841\n",
            "Epoch 9/100\n",
            "46/46 [==============================] - 0s 3ms/step - loss: 1674.9506\n",
            "Epoch 10/100\n",
            "46/46 [==============================] - 0s 3ms/step - loss: 1787.7146\n",
            "Epoch 11/100\n",
            "46/46 [==============================] - 0s 3ms/step - loss: 1701.7706\n",
            "Epoch 12/100\n",
            "46/46 [==============================] - 0s 4ms/step - loss: 1630.2507\n",
            "Epoch 13/100\n",
            "46/46 [==============================] - 0s 3ms/step - loss: 1676.9659\n",
            "Epoch 14/100\n",
            "46/46 [==============================] - 0s 3ms/step - loss: 1697.8118\n",
            "Epoch 15/100\n",
            "46/46 [==============================] - 0s 3ms/step - loss: 1626.6062\n",
            "Epoch 16/100\n",
            "46/46 [==============================] - 0s 3ms/step - loss: 1682.2842\n",
            "Epoch 17/100\n",
            "46/46 [==============================] - 0s 4ms/step - loss: 1748.1795\n",
            "Epoch 18/100\n",
            "46/46 [==============================] - 0s 3ms/step - loss: 1647.0834\n",
            "Epoch 19/100\n",
            "46/46 [==============================] - 0s 3ms/step - loss: 1626.8054\n",
            "Epoch 20/100\n",
            "46/46 [==============================] - 0s 3ms/step - loss: 1631.5663\n",
            "Epoch 21/100\n",
            "46/46 [==============================] - 0s 3ms/step - loss: 1529.7676\n",
            "Epoch 22/100\n",
            "46/46 [==============================] - 0s 3ms/step - loss: 1566.7650\n",
            "Epoch 23/100\n",
            "46/46 [==============================] - 0s 4ms/step - loss: 1645.2566\n",
            "Epoch 24/100\n",
            "46/46 [==============================] - 0s 4ms/step - loss: 1558.6227\n",
            "Epoch 25/100\n",
            "46/46 [==============================] - 0s 4ms/step - loss: 1594.1523\n",
            "Epoch 26/100\n",
            "46/46 [==============================] - 0s 4ms/step - loss: 1537.3079\n",
            "Epoch 27/100\n",
            "46/46 [==============================] - 0s 3ms/step - loss: 1566.8918\n",
            "Epoch 28/100\n",
            "46/46 [==============================] - 0s 3ms/step - loss: 1515.1078\n",
            "Epoch 29/100\n",
            "46/46 [==============================] - 0s 3ms/step - loss: 1592.0891\n",
            "Epoch 30/100\n",
            "46/46 [==============================] - 0s 3ms/step - loss: 1627.7742\n",
            "Epoch 31/100\n",
            "46/46 [==============================] - 0s 4ms/step - loss: 1551.3045\n",
            "Epoch 32/100\n",
            "46/46 [==============================] - 0s 3ms/step - loss: 1590.6370\n",
            "Epoch 33/100\n",
            "46/46 [==============================] - 0s 3ms/step - loss: 1542.1757\n",
            "Epoch 34/100\n",
            "46/46 [==============================] - 0s 3ms/step - loss: 1608.9757\n",
            "Epoch 35/100\n",
            "46/46 [==============================] - 0s 4ms/step - loss: 1493.2406\n",
            "Epoch 36/100\n",
            "46/46 [==============================] - 0s 3ms/step - loss: 1560.4874\n",
            "Epoch 37/100\n",
            "46/46 [==============================] - 0s 4ms/step - loss: 1550.7658\n",
            "Epoch 38/100\n",
            "46/46 [==============================] - 0s 3ms/step - loss: 1577.2006\n",
            "Epoch 39/100\n",
            "46/46 [==============================] - 0s 4ms/step - loss: 1589.1386\n",
            "Epoch 40/100\n",
            "46/46 [==============================] - 0s 3ms/step - loss: 1566.1491\n",
            "Epoch 41/100\n",
            "46/46 [==============================] - 0s 4ms/step - loss: 1559.6784\n",
            "Epoch 42/100\n",
            "46/46 [==============================] - 0s 3ms/step - loss: 1520.1492\n",
            "Epoch 43/100\n",
            "46/46 [==============================] - 0s 3ms/step - loss: 1461.0608\n",
            "Epoch 44/100\n",
            "46/46 [==============================] - 0s 3ms/step - loss: 1503.6473\n",
            "Epoch 45/100\n",
            "46/46 [==============================] - 0s 3ms/step - loss: 1553.1009\n",
            "Epoch 46/100\n",
            "46/46 [==============================] - 0s 3ms/step - loss: 1560.8437\n",
            "Epoch 47/100\n",
            "46/46 [==============================] - 0s 4ms/step - loss: 1529.8388\n",
            "Epoch 48/100\n",
            "46/46 [==============================] - 0s 3ms/step - loss: 1454.7279\n",
            "Epoch 49/100\n",
            "46/46 [==============================] - 0s 4ms/step - loss: 1505.5763\n",
            "Epoch 50/100\n",
            "46/46 [==============================] - 0s 4ms/step - loss: 1509.3405\n",
            "Epoch 51/100\n",
            "46/46 [==============================] - 0s 4ms/step - loss: 1442.4801\n",
            "Epoch 52/100\n",
            "46/46 [==============================] - 0s 3ms/step - loss: 1467.2435\n",
            "Epoch 53/100\n",
            "46/46 [==============================] - 0s 3ms/step - loss: 1555.4797\n",
            "Epoch 54/100\n",
            "46/46 [==============================] - 0s 4ms/step - loss: 1518.7231\n",
            "Epoch 55/100\n",
            "46/46 [==============================] - 0s 4ms/step - loss: 1416.9821\n",
            "Epoch 56/100\n",
            "46/46 [==============================] - 0s 3ms/step - loss: 1456.5949\n",
            "Epoch 57/100\n",
            "46/46 [==============================] - 0s 4ms/step - loss: 1476.7870\n",
            "Epoch 58/100\n",
            "46/46 [==============================] - 0s 3ms/step - loss: 1459.4797\n",
            "Epoch 59/100\n",
            "46/46 [==============================] - 0s 3ms/step - loss: 1470.8871\n",
            "Epoch 60/100\n",
            "46/46 [==============================] - 0s 4ms/step - loss: 1480.5110\n",
            "Epoch 61/100\n",
            "46/46 [==============================] - 0s 3ms/step - loss: 1472.1018\n",
            "Epoch 62/100\n",
            "46/46 [==============================] - 0s 3ms/step - loss: 1452.5474\n",
            "Epoch 63/100\n",
            "46/46 [==============================] - 0s 3ms/step - loss: 1462.9357\n",
            "Epoch 64/100\n",
            "46/46 [==============================] - 0s 4ms/step - loss: 1448.0257\n",
            "Epoch 65/100\n",
            "46/46 [==============================] - 0s 3ms/step - loss: 1467.6263\n",
            "Epoch 66/100\n",
            "46/46 [==============================] - 0s 3ms/step - loss: 1480.8215\n",
            "Epoch 67/100\n",
            "46/46 [==============================] - 0s 3ms/step - loss: 1477.5371\n",
            "Epoch 68/100\n",
            "46/46 [==============================] - 0s 4ms/step - loss: 1458.6108\n",
            "Epoch 69/100\n",
            "46/46 [==============================] - 0s 3ms/step - loss: 1407.4719\n",
            "Epoch 70/100\n",
            "46/46 [==============================] - 0s 4ms/step - loss: 1453.6844\n",
            "Epoch 71/100\n",
            "46/46 [==============================] - 0s 3ms/step - loss: 1439.8711\n",
            "Epoch 72/100\n",
            "46/46 [==============================] - 0s 4ms/step - loss: 1403.9047\n",
            "Epoch 73/100\n",
            "46/46 [==============================] - 0s 3ms/step - loss: 1469.4433\n",
            "Epoch 74/100\n",
            "46/46 [==============================] - 0s 4ms/step - loss: 1448.9861\n",
            "Epoch 75/100\n",
            "46/46 [==============================] - 0s 4ms/step - loss: 1472.5695\n",
            "Epoch 76/100\n",
            "46/46 [==============================] - 0s 3ms/step - loss: 1455.0909\n",
            "Epoch 77/100\n",
            "46/46 [==============================] - 0s 3ms/step - loss: 1377.4211\n",
            "Epoch 78/100\n",
            "46/46 [==============================] - 0s 3ms/step - loss: 1412.4252\n",
            "Epoch 79/100\n",
            "46/46 [==============================] - 0s 3ms/step - loss: 1415.9223\n",
            "Epoch 80/100\n",
            "46/46 [==============================] - 0s 3ms/step - loss: 1406.7951\n",
            "Epoch 81/100\n",
            "46/46 [==============================] - 0s 3ms/step - loss: 1415.4522\n",
            "Epoch 82/100\n",
            "46/46 [==============================] - 0s 3ms/step - loss: 1363.3962\n",
            "Epoch 83/100\n",
            "46/46 [==============================] - 0s 4ms/step - loss: 1450.5161\n",
            "Epoch 84/100\n",
            "46/46 [==============================] - 0s 4ms/step - loss: 1427.1825\n",
            "Epoch 85/100\n",
            "46/46 [==============================] - 0s 4ms/step - loss: 1399.0854\n",
            "Epoch 86/100\n",
            "46/46 [==============================] - 0s 4ms/step - loss: 1424.3480\n",
            "Epoch 87/100\n",
            "46/46 [==============================] - 0s 3ms/step - loss: 1437.3284\n",
            "Epoch 88/100\n",
            "46/46 [==============================] - 0s 4ms/step - loss: 1392.7925\n",
            "Epoch 89/100\n",
            "46/46 [==============================] - 0s 3ms/step - loss: 1349.5670\n",
            "Epoch 90/100\n",
            "46/46 [==============================] - 0s 4ms/step - loss: 1444.9013\n",
            "Epoch 91/100\n",
            "46/46 [==============================] - 0s 4ms/step - loss: 1365.8529\n",
            "Epoch 92/100\n",
            "46/46 [==============================] - 0s 4ms/step - loss: 1467.8669\n",
            "Epoch 93/100\n",
            "46/46 [==============================] - 0s 3ms/step - loss: 1410.9131\n",
            "Epoch 94/100\n",
            "46/46 [==============================] - 0s 4ms/step - loss: 1392.6391\n",
            "Epoch 95/100\n",
            "46/46 [==============================] - 0s 3ms/step - loss: 1411.9755\n",
            "Epoch 96/100\n",
            "46/46 [==============================] - 0s 3ms/step - loss: 1397.0870\n",
            "Epoch 97/100\n",
            "46/46 [==============================] - 0s 3ms/step - loss: 1411.4156\n",
            "Epoch 98/100\n",
            "46/46 [==============================] - 0s 4ms/step - loss: 1445.4999\n",
            "Epoch 99/100\n",
            "46/46 [==============================] - 0s 3ms/step - loss: 1359.9551\n",
            "Epoch 100/100\n",
            "46/46 [==============================] - 0s 3ms/step - loss: 1382.7171\n"
          ],
          "name": "stdout"
        },
        {
          "output_type": "execute_result",
          "data": {
            "text/plain": [
              "<tensorflow.python.keras.callbacks.History at 0x7f15f854de50>"
            ]
          },
          "metadata": {
            "tags": []
          },
          "execution_count": 24
        }
      ]
    },
    {
      "cell_type": "code",
      "metadata": {
        "colab": {
          "base_uri": "https://localhost:8080/",
          "height": 388
        },
        "id": "qhNHiQYCKyGk",
        "outputId": "740efbec-ac1d-428a-9c72-48dabfd65176"
      },
      "source": [
        "#Exploring the overall prediction \n",
        "forecast = []\n",
        "for time in range(len(series)- window_size):\n",
        "  forecast.append(model.predict(series[time:time+window_size][np.newaxis]))\n",
        "\n",
        "  \n",
        "forecast = forecast[split_time-window_size:]\n",
        "results = np.array(forecast)[:,0,0]\n",
        "plt.figure(figsize=(10,6))\n",
        "plot_series(time_valid, x_valid)\n",
        "plot_series(time_valid, results)"
      ],
      "execution_count": null,
      "outputs": [
        {
          "output_type": "display_data",
          "data": {
            "image/png": "[encoded data removed]",
            "text/plain": [
              "<Figure size 720x432 with 1 Axes>"
            ]
          },
          "metadata": {
            "tags": [],
            "needs_background": "light"
          }
        }
      ]
    },
    {
      "cell_type": "code",
      "metadata": {
        "colab": {
          "base_uri": "https://localhost:8080/"
        },
        "id": "GPr5vdZALaVV",
        "outputId": "7ca38c8a-639a-4a10-c160-2f7bb8e548e6"
      },
      "source": [
        "!pip install keras-tuner"
      ],
      "execution_count": null,
      "outputs": [
        {
          "output_type": "stream",
          "text": [
            "Collecting keras-tuner\n",
            "\u001b[?25l  Downloading https://files.pythonhosted.org/packages/20/ec/1ef246787174b1e2bb591c95f29d3c1310070cad877824f907faba3dade9/keras-tuner-1.0.2.tar.gz (62kB)\n",
            "\r\u001b[K     |█████▏                          | 10kB 17.1MB/s eta 0:00:01\r\u001b[K     |██████████▍                     | 20kB 22.7MB/s eta 0:00:01\r\u001b[K     |███████████████▋                | 30kB 26.6MB/s eta 0:00:01\r\u001b[K     |████████████████████▉           | 40kB 21.7MB/s eta 0:00:01\r\u001b[K     |██████████████████████████      | 51kB 17.0MB/s eta 0:00:01\r\u001b[K     |███████████████████████████████▎| 61kB 15.9MB/s eta 0:00:01\r\u001b[K     |████████████████████████████████| 71kB 6.7MB/s \n",
            "\u001b[?25hRequirement already satisfied: packaging in /usr/local/lib/python3.7/dist-packages (from keras-tuner) (20.9)\n",
            "Requirement already satisfied: future in /usr/local/lib/python3.7/dist-packages (from keras-tuner) (0.16.0)\n",
            "Requirement already satisfied: numpy in /usr/local/lib/python3.7/dist-packages (from keras-tuner) (1.19.5)\n",
            "Requirement already satisfied: tabulate in /usr/local/lib/python3.7/dist-packages (from keras-tuner) (0.8.9)\n",
            "Collecting terminaltables\n",
            "  Downloading https://files.pythonhosted.org/packages/9b/c4/4a21174f32f8a7e1104798c445dacdc1d4df86f2f26722767034e4de4bff/terminaltables-3.1.0.tar.gz\n",
            "Collecting colorama\n",
            "  Downloading https://files.pythonhosted.org/packages/44/98/5b86278fbbf250d239ae0ecb724f8572af1c91f4a11edf4d36a206189440/colorama-0.4.4-py2.py3-none-any.whl\n",
            "Requirement already satisfied: tqdm in /usr/local/lib/python3.7/dist-packages (from keras-tuner) (4.41.1)\n",
            "Requirement already satisfied: requests in /usr/local/lib/python3.7/dist-packages (from keras-tuner) (2.23.0)\n",
            "Requirement already satisfied: scipy in /usr/local/lib/python3.7/dist-packages (from keras-tuner) (1.4.1)\n",
            "Requirement already satisfied: scikit-learn in /usr/local/lib/python3.7/dist-packages (from keras-tuner) (0.22.2.post1)\n",
            "Requirement already satisfied: pyparsing>=2.0.2 in /usr/local/lib/python3.7/dist-packages (from packaging->keras-tuner) (2.4.7)\n",
            "Requirement already satisfied: chardet<4,>=3.0.2 in /usr/local/lib/python3.7/dist-packages (from requests->keras-tuner) (3.0.4)\n",
            "Requirement already satisfied: urllib3!=1.25.0,!=1.25.1,<1.26,>=1.21.1 in /usr/local/lib/python3.7/dist-packages (from requests->keras-tuner) (1.24.3)\n",
            "Requirement already satisfied: idna<3,>=2.5 in /usr/local/lib/python3.7/dist-packages (from requests->keras-tuner) (2.10)\n",
            "Requirement already satisfied: certifi>=2017.4.17 in /usr/local/lib/python3.7/dist-packages (from requests->keras-tuner) (2020.12.5)\n",
            "Requirement already satisfied: joblib>=0.11 in /usr/local/lib/python3.7/dist-packages (from scikit-learn->keras-tuner) (1.0.1)\n",
            "Building wheels for collected packages: keras-tuner, terminaltables\n",
            "  Building wheel for keras-tuner (setup.py) ... \u001b[?25l\u001b[?25hdone\n",
            "  Created wheel for keras-tuner: filename=keras_tuner-1.0.2-cp37-none-any.whl size=78938 sha256=ec3c626fb0c487318f27a827805917f6e8e12cc5437e20b91383741815c1e917\n",
            "  Stored in directory: /root/.cache/pip/wheels/bb/a1/8a/7c3de0efb3707a1701b36ebbfdbc4e67aedf6d4943a1f463d6\n",
            "  Building wheel for terminaltables (setup.py) ... \u001b[?25l\u001b[?25hdone\n",
            "  Created wheel for terminaltables: filename=terminaltables-3.1.0-cp37-none-any.whl size=15356 sha256=4d8608e1387187a5aefdf0a6cf838622e43002b3b8d46d599fdb540732974f27\n",
            "  Stored in directory: /root/.cache/pip/wheels/30/6b/50/6c75775b681fb36cdfac7f19799888ef9d8813aff9e379663e\n",
            "Successfully built keras-tuner terminaltables\n",
            "Installing collected packages: terminaltables, colorama, keras-tuner\n",
            "Successfully installed colorama-0.4.4 keras-tuner-1.0.2 terminaltables-3.1.0\n"
          ],
          "name": "stdout"
        }
      ]
    },
    {
      "cell_type": "code",
      "metadata": {
        "id": "kJQqhR7UN4Gg"
      },
      "source": [
        "#tf.keras.layers.Dense(units=hp.Int('units', min_value=10, max_value=30, step=2), activation='relu', input_shape=[window_size]))\n",
        "\n",
        "#optimizer = tf.keras.optimizers.SGD(hp.Choice('momentum', values=[0.9,0.7,0.5,0.3]), lr=1e-5)"
      ],
      "execution_count": null,
      "outputs": []
    },
    {
      "cell_type": "code",
      "metadata": {
        "id": "1owopv-4O_bz"
      },
      "source": [
        "def build_model(hp):\n",
        "  model = tf.keras.models.Sequential()\n",
        "  model.add( tf.keras.layers.Dense(\n",
        "      units=hp.Int('units', min_value=10, max_value=30, step=2), activation='relu', input_shape=[window_size])\n",
        "  )\n",
        "  model.add(tf.keras.layers.Dense(10, activation='relu'))\n",
        "  model.add(tf.keras.layers.Dense(1))\n",
        "\n",
        "  model. compile(loss=\"mse\", optimizer = tf.keras.optimizers.SGD(hp.Choice('momentum', values =[0.9, 0.7, 0.5, 0.3]), lr=1e-5))\n",
        "  return model "
      ],
      "execution_count": null,
      "outputs": []
    },
    {
      "cell_type": "code",
      "metadata": {
        "id": "p84ZOg_LQVEt"
      },
      "source": [
        "from kerastuner.tuners import RandomSearch"
      ],
      "execution_count": null,
      "outputs": []
    },
    {
      "cell_type": "code",
      "metadata": {
        "id": "NKITgpLDP_bR"
      },
      "source": [
        "tuner = RandomSearch(build_model, objective='loss', max_trials=15, executions_per_trial=3, directory='my_dir', project_name='hello')"
      ],
      "execution_count": null,
      "outputs": []
    },
    {
      "cell_type": "code",
      "metadata": {
        "colab": {
          "base_uri": "https://localhost:8080/"
        },
        "id": "AexvS6H8QST7",
        "outputId": "7fbc17a1-ef39-4697-8900-46d50d4bf59a"
      },
      "source": [
        "tuner.search(dataset, epochs=100, verbose=0)"
      ],
      "execution_count": null,
      "outputs": [
        {
          "output_type": "stream",
          "text": [
            "INFO:tensorflow:Oracle triggered exit\n"
          ],
          "name": "stdout"
        }
      ]
    },
    {
      "cell_type": "code",
      "metadata": {
        "colab": {
          "base_uri": "https://localhost:8080/"
        },
        "id": "AuF5tAY_QsXI",
        "outputId": "e82082c7-89d1-4565-f8cb-61e391cbc7b7"
      },
      "source": [
        "tuner.results_summary()"
      ],
      "execution_count": null,
      "outputs": [
        {
          "output_type": "stream",
          "text": [
            "Results summary\n",
            "Results in my_dir/hello\n",
            "Showing 10 best trials\n",
            "Objective(name='loss', direction='min')\n",
            "Trial summary\n",
            "Hyperparameters:\n",
            "units: 16\n",
            "momentum: 0.7\n",
            "Score: 34.09426498413086\n",
            "Trial summary\n",
            "Hyperparameters:\n",
            "units: 24\n",
            "momentum: 0.9\n",
            "Score: 34.45700709025065\n",
            "Trial summary\n",
            "Hyperparameters:\n",
            "units: 14\n",
            "momentum: 0.9\n",
            "Score: 34.58451716105143\n",
            "Trial summary\n",
            "Hyperparameters:\n",
            "units: 30\n",
            "momentum: 0.3\n",
            "Score: 34.6942990620931\n",
            "Trial summary\n",
            "Hyperparameters:\n",
            "units: 30\n",
            "momentum: 0.5\n",
            "Score: 34.82014465332031\n",
            "Trial summary\n",
            "Hyperparameters:\n",
            "units: 14\n",
            "momentum: 0.5\n",
            "Score: 34.85661315917969\n",
            "Trial summary\n",
            "Hyperparameters:\n",
            "units: 24\n",
            "momentum: 0.5\n",
            "Score: 34.88518142700195\n",
            "Trial summary\n",
            "Hyperparameters:\n",
            "units: 20\n",
            "momentum: 0.9\n",
            "Score: 34.92003377278646\n",
            "Trial summary\n",
            "Hyperparameters:\n",
            "units: 28\n",
            "momentum: 0.3\n",
            "Score: 34.97399139404297\n",
            "Trial summary\n",
            "Hyperparameters:\n",
            "units: 20\n",
            "momentum: 0.7\n",
            "Score: 35.028944651285805\n"
          ],
          "name": "stdout"
        }
      ]
    },
    {
      "cell_type": "code",
      "metadata": {
        "colab": {
          "base_uri": "https://localhost:8080/"
        },
        "id": "fKyDB3sG5FZH",
        "outputId": "928a744d-92fa-42b2-e807-dc19720fe71d"
      },
      "source": [
        "tuner.get_best_models(num_models=3)"
      ],
      "execution_count": null,
      "outputs": [
        {
          "output_type": "execute_result",
          "data": {
            "text/plain": [
              "[<tensorflow.python.keras.engine.sequential.Sequential at 0x7f5264b63fd0>,\n",
              " <tensorflow.python.keras.engine.sequential.Sequential at 0x7f5264b63810>,\n",
              " <tensorflow.python.keras.engine.sequential.Sequential at 0x7f52647f3c50>]"
            ]
          },
          "metadata": {
            "tags": []
          },
          "execution_count": 36
        }
      ]
    },
    {
      "cell_type": "code",
      "metadata": {
        "colab": {
          "base_uri": "https://localhost:8080/"
        },
        "id": "MeYtdq5S5Mgk",
        "outputId": "c03b0a13-8fdb-4ae0-a1cf-4af7c1ed8308"
      },
      "source": [
        "dataset = windowed_dataset(x_train, window_size, batch_size, shuffle_buffer_size)\n",
        "model  = tf.keras.models.Sequential([\n",
        "                                     tf.keras.layers.Dense(28, input_shape=[window_size], activation='relu'),\n",
        "                                     tf.keras.layers.Dense(16, activation='relu'),\n",
        "                                     tf.keras.layers.Dense(1)\n",
        "])\n",
        "\n",
        "optimizer = tf.keras.optimizers.SGD(lr=1e-7, momentum=0.7)\n",
        "model.compile(loss='mse', optimizer=optimizer)\n",
        "history = model.fit(dataset, epochs=100, verbose=1)"
      ],
      "execution_count": null,
      "outputs": [
        {
          "output_type": "stream",
          "text": [
            "Epoch 1/100\n",
            "31/31 [==============================] - 0s 2ms/step - loss: 2998.4632\n",
            "Epoch 2/100\n",
            "31/31 [==============================] - 0s 2ms/step - loss: 89.5847\n",
            "Epoch 3/100\n",
            "31/31 [==============================] - 0s 2ms/step - loss: 43.8829\n",
            "Epoch 4/100\n",
            "31/31 [==============================] - 0s 2ms/step - loss: 42.5234\n",
            "Epoch 5/100\n",
            "31/31 [==============================] - 0s 2ms/step - loss: 41.6097\n",
            "Epoch 6/100\n",
            "31/31 [==============================] - 0s 2ms/step - loss: 44.8692\n",
            "Epoch 7/100\n",
            "31/31 [==============================] - 0s 2ms/step - loss: 42.2481\n",
            "Epoch 8/100\n",
            "31/31 [==============================] - 0s 1ms/step - loss: 45.1495\n",
            "Epoch 9/100\n",
            "31/31 [==============================] - 0s 2ms/step - loss: 41.0553\n",
            "Epoch 10/100\n",
            "31/31 [==============================] - 0s 2ms/step - loss: 46.9991\n",
            "Epoch 11/100\n",
            "31/31 [==============================] - 0s 2ms/step - loss: 43.3310\n",
            "Epoch 12/100\n",
            "31/31 [==============================] - 0s 2ms/step - loss: 41.9271\n",
            "Epoch 13/100\n",
            "31/31 [==============================] - 0s 2ms/step - loss: 40.6754\n",
            "Epoch 14/100\n",
            "31/31 [==============================] - 0s 2ms/step - loss: 44.4031\n",
            "Epoch 15/100\n",
            "31/31 [==============================] - 0s 3ms/step - loss: 44.9368\n",
            "Epoch 16/100\n",
            "31/31 [==============================] - 0s 2ms/step - loss: 40.9361\n",
            "Epoch 17/100\n",
            "31/31 [==============================] - 0s 2ms/step - loss: 43.6253\n",
            "Epoch 18/100\n",
            "31/31 [==============================] - 0s 3ms/step - loss: 44.3936\n",
            "Epoch 19/100\n",
            "31/31 [==============================] - 0s 2ms/step - loss: 40.9484\n",
            "Epoch 20/100\n",
            "31/31 [==============================] - 0s 3ms/step - loss: 43.7418\n",
            "Epoch 21/100\n",
            "31/31 [==============================] - 0s 3ms/step - loss: 40.5828\n",
            "Epoch 22/100\n",
            "31/31 [==============================] - 0s 2ms/step - loss: 41.9569\n",
            "Epoch 23/100\n",
            "31/31 [==============================] - 0s 3ms/step - loss: 39.6082\n",
            "Epoch 24/100\n",
            "31/31 [==============================] - 0s 2ms/step - loss: 40.4977\n",
            "Epoch 25/100\n",
            "31/31 [==============================] - 0s 2ms/step - loss: 41.9249\n",
            "Epoch 26/100\n",
            "31/31 [==============================] - 0s 2ms/step - loss: 44.7917\n",
            "Epoch 27/100\n",
            "31/31 [==============================] - 0s 2ms/step - loss: 43.0619\n",
            "Epoch 28/100\n",
            "31/31 [==============================] - 0s 2ms/step - loss: 40.3614\n",
            "Epoch 29/100\n",
            "31/31 [==============================] - 0s 3ms/step - loss: 42.7261\n",
            "Epoch 30/100\n",
            "31/31 [==============================] - 0s 2ms/step - loss: 40.6811\n",
            "Epoch 31/100\n",
            "31/31 [==============================] - 0s 2ms/step - loss: 42.1695\n",
            "Epoch 32/100\n",
            "31/31 [==============================] - 0s 2ms/step - loss: 39.5888\n",
            "Epoch 33/100\n",
            "31/31 [==============================] - 0s 2ms/step - loss: 42.5754\n",
            "Epoch 34/100\n",
            "31/31 [==============================] - 0s 2ms/step - loss: 37.2637\n",
            "Epoch 35/100\n",
            "31/31 [==============================] - 0s 2ms/step - loss: 44.8101\n",
            "Epoch 36/100\n",
            "31/31 [==============================] - 0s 2ms/step - loss: 42.2713\n",
            "Epoch 37/100\n",
            "31/31 [==============================] - 0s 1ms/step - loss: 42.3296\n",
            "Epoch 38/100\n",
            "31/31 [==============================] - 0s 3ms/step - loss: 40.5383\n",
            "Epoch 39/100\n",
            "31/31 [==============================] - 0s 3ms/step - loss: 44.0780\n",
            "Epoch 40/100\n",
            "31/31 [==============================] - 0s 2ms/step - loss: 42.2275\n",
            "Epoch 41/100\n",
            "31/31 [==============================] - 0s 1ms/step - loss: 42.7062\n",
            "Epoch 42/100\n",
            "31/31 [==============================] - 0s 3ms/step - loss: 41.0625\n",
            "Epoch 43/100\n",
            "31/31 [==============================] - 0s 2ms/step - loss: 40.8291\n",
            "Epoch 44/100\n",
            "31/31 [==============================] - 0s 2ms/step - loss: 36.4393\n",
            "Epoch 45/100\n",
            "31/31 [==============================] - 0s 3ms/step - loss: 43.3051\n",
            "Epoch 46/100\n",
            "31/31 [==============================] - 0s 2ms/step - loss: 42.5344\n",
            "Epoch 47/100\n",
            "31/31 [==============================] - 0s 2ms/step - loss: 43.8601\n",
            "Epoch 48/100\n",
            "31/31 [==============================] - 0s 2ms/step - loss: 42.5989\n",
            "Epoch 49/100\n",
            "31/31 [==============================] - 0s 2ms/step - loss: 39.0273\n",
            "Epoch 50/100\n",
            "31/31 [==============================] - 0s 2ms/step - loss: 40.5878\n",
            "Epoch 51/100\n",
            "31/31 [==============================] - 0s 2ms/step - loss: 40.9898\n",
            "Epoch 52/100\n",
            "31/31 [==============================] - 0s 2ms/step - loss: 41.9246\n",
            "Epoch 53/100\n",
            "31/31 [==============================] - 0s 3ms/step - loss: 40.9757\n",
            "Epoch 54/100\n",
            "31/31 [==============================] - 0s 2ms/step - loss: 40.9025\n",
            "Epoch 55/100\n",
            "31/31 [==============================] - 0s 2ms/step - loss: 39.3016\n",
            "Epoch 56/100\n",
            "31/31 [==============================] - 0s 2ms/step - loss: 44.1776\n",
            "Epoch 57/100\n",
            "31/31 [==============================] - 0s 2ms/step - loss: 43.6800\n",
            "Epoch 58/100\n",
            "31/31 [==============================] - 0s 3ms/step - loss: 38.1945\n",
            "Epoch 59/100\n",
            "31/31 [==============================] - 0s 2ms/step - loss: 44.0829\n",
            "Epoch 60/100\n",
            "31/31 [==============================] - 0s 2ms/step - loss: 42.7634\n",
            "Epoch 61/100\n",
            "31/31 [==============================] - 0s 2ms/step - loss: 39.8739\n",
            "Epoch 62/100\n",
            "31/31 [==============================] - 0s 1ms/step - loss: 39.4244\n",
            "Epoch 63/100\n",
            "31/31 [==============================] - 0s 3ms/step - loss: 38.9901\n",
            "Epoch 64/100\n",
            "31/31 [==============================] - 0s 2ms/step - loss: 40.0714\n",
            "Epoch 65/100\n",
            "31/31 [==============================] - 0s 2ms/step - loss: 41.1452\n",
            "Epoch 66/100\n",
            "31/31 [==============================] - 0s 2ms/step - loss: 41.1683\n",
            "Epoch 67/100\n",
            "31/31 [==============================] - 0s 2ms/step - loss: 39.3269\n",
            "Epoch 68/100\n",
            "31/31 [==============================] - 0s 2ms/step - loss: 41.2854\n",
            "Epoch 69/100\n",
            "31/31 [==============================] - 0s 2ms/step - loss: 42.0940\n",
            "Epoch 70/100\n",
            "31/31 [==============================] - 0s 2ms/step - loss: 41.8280\n",
            "Epoch 71/100\n",
            "31/31 [==============================] - 0s 2ms/step - loss: 38.0761\n",
            "Epoch 72/100\n",
            "31/31 [==============================] - 0s 2ms/step - loss: 40.4190\n",
            "Epoch 73/100\n",
            "31/31 [==============================] - 0s 2ms/step - loss: 39.0510\n",
            "Epoch 74/100\n",
            "31/31 [==============================] - 0s 2ms/step - loss: 40.1641\n",
            "Epoch 75/100\n",
            "31/31 [==============================] - 0s 3ms/step - loss: 37.9272\n",
            "Epoch 76/100\n",
            "31/31 [==============================] - 0s 3ms/step - loss: 38.8101\n",
            "Epoch 77/100\n",
            "31/31 [==============================] - 0s 2ms/step - loss: 41.7435\n",
            "Epoch 78/100\n",
            "31/31 [==============================] - 0s 3ms/step - loss: 39.1136\n",
            "Epoch 79/100\n",
            "31/31 [==============================] - 0s 2ms/step - loss: 41.2629\n",
            "Epoch 80/100\n",
            "31/31 [==============================] - 0s 2ms/step - loss: 40.8279\n",
            "Epoch 81/100\n",
            "31/31 [==============================] - 0s 1ms/step - loss: 42.3170\n",
            "Epoch 82/100\n",
            "31/31 [==============================] - 0s 2ms/step - loss: 41.8166\n",
            "Epoch 83/100\n",
            "31/31 [==============================] - 0s 2ms/step - loss: 38.2276\n",
            "Epoch 84/100\n",
            "31/31 [==============================] - 0s 2ms/step - loss: 41.0263\n",
            "Epoch 85/100\n",
            "31/31 [==============================] - 0s 3ms/step - loss: 38.1241\n",
            "Epoch 86/100\n",
            "31/31 [==============================] - 0s 3ms/step - loss: 42.9961\n",
            "Epoch 87/100\n",
            "31/31 [==============================] - 0s 2ms/step - loss: 38.3934\n",
            "Epoch 88/100\n",
            "31/31 [==============================] - 0s 3ms/step - loss: 41.4663\n",
            "Epoch 89/100\n",
            "31/31 [==============================] - 0s 2ms/step - loss: 40.9537\n",
            "Epoch 90/100\n",
            "31/31 [==============================] - 0s 2ms/step - loss: 39.8117\n",
            "Epoch 91/100\n",
            "31/31 [==============================] - 0s 2ms/step - loss: 34.8133\n",
            "Epoch 92/100\n",
            "31/31 [==============================] - 0s 3ms/step - loss: 38.4032\n",
            "Epoch 93/100\n",
            "31/31 [==============================] - 0s 2ms/step - loss: 39.4184\n",
            "Epoch 94/100\n",
            "31/31 [==============================] - 0s 2ms/step - loss: 43.9046\n",
            "Epoch 95/100\n",
            "31/31 [==============================] - 0s 2ms/step - loss: 39.6764\n",
            "Epoch 96/100\n",
            "31/31 [==============================] - 0s 2ms/step - loss: 42.0309\n",
            "Epoch 97/100\n",
            "31/31 [==============================] - 0s 2ms/step - loss: 45.1055\n",
            "Epoch 98/100\n",
            "31/31 [==============================] - 0s 2ms/step - loss: 40.6812\n",
            "Epoch 99/100\n",
            "31/31 [==============================] - 0s 2ms/step - loss: 42.2143\n",
            "Epoch 100/100\n",
            "31/31 [==============================] - 0s 1ms/step - loss: 40.8857\n"
          ],
          "name": "stdout"
        }
      ]
    },
    {
      "cell_type": "code",
      "metadata": {
        "colab": {
          "base_uri": "https://localhost:8080/",
          "height": 388
        },
        "id": "d7N8cMdV9qXY",
        "outputId": "82de20d6-fda3-47fc-8651-0baf0c6f8267"
      },
      "source": [
        "#Exploring the overall prediction \n",
        "forecast = []\n",
        "for time in range(len(series)- window_size):\n",
        "  forecast.append(model.predict(series[time:time+window_size][np.newaxis]))\n",
        "\n",
        "  \n",
        "forecast = forecast[split_time-window_size:]\n",
        "results = np.array(forecast)[:,0,0]\n",
        "plt.figure(figsize=(10,6))\n",
        "plot_series(time_valid, x_valid)\n",
        "plot_series(time_valid, results)"
      ],
      "execution_count": null,
      "outputs": [
        {
          "output_type": "display_data",
          "data": {
            "image/png": "[encoded data removed]",
            "text/plain": [
              "<Figure size 720x432 with 1 Axes>"
            ]
          },
          "metadata": {
            "tags": [],
            "needs_background": "light"
          }
        }
      ]
    },
    {
      "cell_type": "code",
      "metadata": {
        "id": "CCA-JWvh9y8V"
      },
      "source": [
        "#Coding convolutions \n",
        "def windowed_dataset(series, window_size, batch_size, shuffle_buffer):\n",
        "  series = tf.expand_dims(series, axis=-1)\n",
        "  dataset = tf.data.Dataset.from_tensor_slices(series)\n",
        "  dataset = dataset.window(window_size+1, shift=1, drop_remainder=True )\n",
        "  dataset = dataset.flat_map(lambda window: window.batch(window_size+1))\n",
        "  dataset = dataset.shuffle(shuffle_buffer).map(lambda window: (window[:-1], window[-1]))\n",
        "  dataset = dataset.batch(batch_size).prefetch(1)\n",
        "  return dataset\n"
      ],
      "execution_count": null,
      "outputs": []
    },
    {
      "cell_type": "code",
      "metadata": {
        "colab": {
          "base_uri": "https://localhost:8080/"
        },
        "id": "S697RXySNLwG",
        "outputId": "425e624f-317f-4724-8747-87fb7b5ab2fd"
      },
      "source": [
        "dataset =  windowed_dataset(x_train, window_size, batch_size, shuffle_buffer_size)\n",
        "model = tf.keras.models.Sequential([\n",
        "                                    tf.keras.layers.Conv1D(filters=128, kernel_size=3, strides=1, padding='causal', activation='relu', input_shape = [None, 1]),\n",
        "                                    tf.keras.layers.Dense(28, activation=\"relu\"),\n",
        "                                    tf.keras.layers.Dense(10, activation='relu'),\n",
        "                                    tf.keras.layers.Dense(1)\n",
        "])\n",
        "\n",
        "optimizer = tf.keras.optimizers.SGD(lr=1e-5, momentum=0.5)\n",
        "model.compile(loss=\"mse\", optimizer = optimizer)\n",
        "history = model.fit(dataset, epochs=100, verbose=1)"
      ],
      "execution_count": null,
      "outputs": [
        {
          "output_type": "stream",
          "text": [
            "Epoch 1/100\n",
            "31/31 [==============================] - 15s 12ms/step - loss: 1249.4824\n",
            "Epoch 2/100\n",
            "31/31 [==============================] - 0s 4ms/step - loss: 102.2995\n",
            "Epoch 3/100\n",
            "31/31 [==============================] - 0s 5ms/step - loss: 88.2597\n",
            "Epoch 4/100\n",
            "31/31 [==============================] - 0s 4ms/step - loss: 84.1558\n",
            "Epoch 5/100\n",
            "31/31 [==============================] - 0s 4ms/step - loss: 70.6627\n",
            "Epoch 6/100\n",
            "31/31 [==============================] - 0s 4ms/step - loss: 70.9935\n",
            "Epoch 7/100\n",
            "31/31 [==============================] - 0s 4ms/step - loss: 64.5005\n",
            "Epoch 8/100\n",
            "31/31 [==============================] - 0s 4ms/step - loss: 71.0927\n",
            "Epoch 9/100\n",
            "31/31 [==============================] - 0s 4ms/step - loss: 62.5075\n",
            "Epoch 10/100\n",
            "31/31 [==============================] - 0s 4ms/step - loss: 64.2985\n",
            "Epoch 11/100\n",
            "31/31 [==============================] - 0s 5ms/step - loss: 64.1012\n",
            "Epoch 12/100\n",
            "31/31 [==============================] - 0s 4ms/step - loss: 66.9020\n",
            "Epoch 13/100\n",
            "31/31 [==============================] - 0s 4ms/step - loss: 74.5088\n",
            "Epoch 14/100\n",
            "31/31 [==============================] - 0s 4ms/step - loss: 69.3385\n",
            "Epoch 15/100\n",
            "31/31 [==============================] - 0s 4ms/step - loss: 66.3634\n",
            "Epoch 16/100\n",
            "31/31 [==============================] - 0s 4ms/step - loss: 63.3134\n",
            "Epoch 17/100\n",
            "31/31 [==============================] - 0s 4ms/step - loss: 69.4861\n",
            "Epoch 18/100\n",
            "31/31 [==============================] - 0s 4ms/step - loss: 69.6920\n",
            "Epoch 19/100\n",
            "31/31 [==============================] - 0s 4ms/step - loss: 69.6353\n",
            "Epoch 20/100\n",
            "31/31 [==============================] - 0s 4ms/step - loss: 64.4965\n",
            "Epoch 21/100\n",
            "31/31 [==============================] - 0s 4ms/step - loss: 65.7088\n",
            "Epoch 22/100\n",
            "31/31 [==============================] - 0s 4ms/step - loss: 59.9455\n",
            "Epoch 23/100\n",
            "31/31 [==============================] - 0s 4ms/step - loss: 67.9003\n",
            "Epoch 24/100\n",
            "31/31 [==============================] - 0s 4ms/step - loss: 67.4010\n",
            "Epoch 25/100\n",
            "31/31 [==============================] - 0s 4ms/step - loss: 65.9467\n",
            "Epoch 26/100\n",
            "31/31 [==============================] - 0s 4ms/step - loss: 67.4799\n",
            "Epoch 27/100\n",
            "31/31 [==============================] - 0s 4ms/step - loss: 66.4800\n",
            "Epoch 28/100\n",
            "31/31 [==============================] - 0s 4ms/step - loss: 64.7633\n",
            "Epoch 29/100\n",
            "31/31 [==============================] - 0s 4ms/step - loss: 63.6224\n",
            "Epoch 30/100\n",
            "31/31 [==============================] - 0s 5ms/step - loss: 64.5815\n",
            "Epoch 31/100\n",
            "31/31 [==============================] - 0s 5ms/step - loss: 62.4927\n",
            "Epoch 32/100\n",
            "31/31 [==============================] - 0s 4ms/step - loss: 60.0928\n",
            "Epoch 33/100\n",
            "31/31 [==============================] - 0s 4ms/step - loss: 66.0518\n",
            "Epoch 34/100\n",
            "31/31 [==============================] - 0s 4ms/step - loss: 64.9777\n",
            "Epoch 35/100\n",
            "31/31 [==============================] - 0s 4ms/step - loss: 65.1092\n",
            "Epoch 36/100\n",
            "31/31 [==============================] - 0s 5ms/step - loss: 63.6794\n",
            "Epoch 37/100\n",
            "31/31 [==============================] - 0s 4ms/step - loss: 60.6542\n",
            "Epoch 38/100\n",
            "31/31 [==============================] - 0s 4ms/step - loss: 61.9429\n",
            "Epoch 39/100\n",
            "31/31 [==============================] - 0s 4ms/step - loss: 60.5418\n",
            "Epoch 40/100\n",
            "31/31 [==============================] - 0s 4ms/step - loss: 66.1610\n",
            "Epoch 41/100\n",
            "31/31 [==============================] - 0s 4ms/step - loss: 62.0302\n",
            "Epoch 42/100\n",
            "31/31 [==============================] - 0s 4ms/step - loss: 64.5708\n",
            "Epoch 43/100\n",
            "31/31 [==============================] - 0s 4ms/step - loss: 60.2027\n",
            "Epoch 44/100\n",
            "31/31 [==============================] - 0s 4ms/step - loss: 64.3338\n",
            "Epoch 45/100\n",
            "31/31 [==============================] - 0s 4ms/step - loss: 68.2278\n",
            "Epoch 46/100\n",
            "31/31 [==============================] - 0s 4ms/step - loss: 61.9883\n",
            "Epoch 47/100\n",
            "31/31 [==============================] - 0s 4ms/step - loss: 59.0296\n",
            "Epoch 48/100\n",
            "31/31 [==============================] - 0s 4ms/step - loss: 66.6855\n",
            "Epoch 49/100\n",
            "31/31 [==============================] - 0s 5ms/step - loss: 61.6648\n",
            "Epoch 50/100\n",
            "31/31 [==============================] - 0s 4ms/step - loss: 59.9424\n",
            "Epoch 51/100\n",
            "31/31 [==============================] - 0s 4ms/step - loss: 66.9782\n",
            "Epoch 52/100\n",
            "31/31 [==============================] - 0s 4ms/step - loss: 64.7472\n",
            "Epoch 53/100\n",
            "31/31 [==============================] - 0s 4ms/step - loss: 57.3215\n",
            "Epoch 54/100\n",
            "31/31 [==============================] - 0s 4ms/step - loss: 60.1826\n",
            "Epoch 55/100\n",
            "31/31 [==============================] - 0s 4ms/step - loss: 64.6419\n",
            "Epoch 56/100\n",
            "31/31 [==============================] - 0s 4ms/step - loss: 60.6351\n",
            "Epoch 57/100\n",
            "31/31 [==============================] - 0s 4ms/step - loss: 66.3493\n",
            "Epoch 58/100\n",
            "31/31 [==============================] - 0s 5ms/step - loss: 61.5101\n",
            "Epoch 59/100\n",
            "31/31 [==============================] - 0s 4ms/step - loss: 65.8904\n",
            "Epoch 60/100\n",
            "31/31 [==============================] - 0s 4ms/step - loss: 63.4037\n",
            "Epoch 61/100\n",
            "31/31 [==============================] - 0s 4ms/step - loss: 58.1524\n",
            "Epoch 62/100\n",
            "31/31 [==============================] - 0s 5ms/step - loss: 56.3240\n",
            "Epoch 63/100\n",
            "31/31 [==============================] - 0s 5ms/step - loss: 63.4822\n",
            "Epoch 64/100\n",
            "31/31 [==============================] - 0s 4ms/step - loss: 64.6703\n",
            "Epoch 65/100\n",
            "31/31 [==============================] - 0s 5ms/step - loss: 61.3354\n",
            "Epoch 66/100\n",
            "31/31 [==============================] - 0s 4ms/step - loss: 64.1693\n",
            "Epoch 67/100\n",
            "31/31 [==============================] - 0s 5ms/step - loss: 65.0769\n",
            "Epoch 68/100\n",
            "31/31 [==============================] - 0s 4ms/step - loss: 68.7336\n",
            "Epoch 69/100\n",
            "31/31 [==============================] - 0s 4ms/step - loss: 60.2690\n",
            "Epoch 70/100\n",
            "31/31 [==============================] - 0s 4ms/step - loss: 59.5536\n",
            "Epoch 71/100\n",
            "31/31 [==============================] - 0s 5ms/step - loss: 63.3146\n",
            "Epoch 72/100\n",
            "31/31 [==============================] - 0s 4ms/step - loss: 69.5192\n",
            "Epoch 73/100\n",
            "31/31 [==============================] - 0s 4ms/step - loss: 62.6691\n",
            "Epoch 74/100\n",
            "31/31 [==============================] - 0s 4ms/step - loss: 65.7432\n",
            "Epoch 75/100\n",
            "31/31 [==============================] - 0s 4ms/step - loss: 65.4349\n",
            "Epoch 76/100\n",
            "31/31 [==============================] - 0s 4ms/step - loss: 64.7102\n",
            "Epoch 77/100\n",
            "31/31 [==============================] - 0s 4ms/step - loss: 66.5654\n",
            "Epoch 78/100\n",
            "31/31 [==============================] - 0s 4ms/step - loss: 67.9038\n",
            "Epoch 79/100\n",
            "31/31 [==============================] - 0s 4ms/step - loss: 65.4287\n",
            "Epoch 80/100\n",
            "31/31 [==============================] - 0s 4ms/step - loss: 58.2754\n",
            "Epoch 81/100\n",
            "31/31 [==============================] - 0s 5ms/step - loss: 62.6019\n",
            "Epoch 82/100\n",
            "31/31 [==============================] - 0s 5ms/step - loss: 63.9387\n",
            "Epoch 83/100\n",
            "31/31 [==============================] - 0s 4ms/step - loss: 63.8663\n",
            "Epoch 84/100\n",
            "31/31 [==============================] - 0s 4ms/step - loss: 58.0955\n",
            "Epoch 85/100\n",
            "31/31 [==============================] - 0s 4ms/step - loss: 62.8282\n",
            "Epoch 86/100\n",
            "31/31 [==============================] - 0s 4ms/step - loss: 65.5143\n",
            "Epoch 87/100\n",
            "31/31 [==============================] - 0s 4ms/step - loss: 63.2199\n",
            "Epoch 88/100\n",
            "31/31 [==============================] - 0s 4ms/step - loss: 68.7100\n",
            "Epoch 89/100\n",
            "31/31 [==============================] - 0s 4ms/step - loss: 61.4990\n",
            "Epoch 90/100\n",
            "31/31 [==============================] - 0s 5ms/step - loss: 67.8783\n",
            "Epoch 91/100\n",
            "31/31 [==============================] - 0s 4ms/step - loss: 60.1338\n",
            "Epoch 92/100\n",
            "31/31 [==============================] - 0s 4ms/step - loss: 64.0534\n",
            "Epoch 93/100\n",
            "31/31 [==============================] - 0s 4ms/step - loss: 60.4499\n",
            "Epoch 94/100\n",
            "31/31 [==============================] - 0s 4ms/step - loss: 57.6314\n",
            "Epoch 95/100\n",
            "31/31 [==============================] - 0s 5ms/step - loss: 63.1094\n",
            "Epoch 96/100\n",
            "31/31 [==============================] - 0s 4ms/step - loss: 65.9157\n",
            "Epoch 97/100\n",
            "31/31 [==============================] - 0s 4ms/step - loss: 61.8838\n",
            "Epoch 98/100\n",
            "31/31 [==============================] - 0s 5ms/step - loss: 61.6829\n",
            "Epoch 99/100\n",
            "31/31 [==============================] - 0s 4ms/step - loss: 64.8258\n",
            "Epoch 100/100\n",
            "31/31 [==============================] - 0s 4ms/step - loss: 59.6478\n"
          ],
          "name": "stdout"
        }
      ]
    },
    {
      "cell_type": "code",
      "metadata": {
        "id": "1C4PtNT9UiZk"
      },
      "source": [
        "def model_forecast(model, series, window_size):\n",
        "  ds = tf.data.Dataset.from_tensor_slices(series)\n",
        "  ds = ds.window(window_size, shift =1, drop_remainder=True)\n",
        "  ds = ds.flat_map(lambda w: w.batch(window_size))\n",
        "  ds = ds.batch(32).prefetch(1)\n",
        "  forecast = model.predict(ds)\n",
        "  return forecast"
      ],
      "execution_count": null,
      "outputs": []
    },
    {
      "cell_type": "code",
      "metadata": {
        "id": "x96CfxJBYHeE"
      },
      "source": [
        "forecast = model_forecast(model, series[...,np.newaxis], window_size)"
      ],
      "execution_count": null,
      "outputs": []
    },
    {
      "cell_type": "code",
      "metadata": {
        "id": "Wg5jpGXMY89q"
      },
      "source": [
        "results = forecast[split_time- window_size:-1,-1,0]"
      ],
      "execution_count": null,
      "outputs": []
    },
    {
      "cell_type": "code",
      "metadata": {
        "colab": {
          "base_uri": "https://localhost:8080/",
          "height": 388
        },
        "id": "qDf3H4gqZERm",
        "outputId": "924a5290-bf50-4e48-e096-747143e863b9"
      },
      "source": [
        "plt.figure(figsize=(10,6))\n",
        "plot_series(time_valid, x_valid)\n",
        "plot_series(time_valid, results)"
      ],
      "execution_count": null,
      "outputs": [
        {
          "output_type": "display_data",
          "data": {
            "image/png": "[encoded data removed]",
            "text/plain": [
              "<Figure size 720x432 with 1 Axes>"
            ]
          },
          "metadata": {
            "tags": [],
            "needs_background": "light"
          }
        }
      ]
    },
    {
      "cell_type": "code",
      "metadata": {
        "id": "kzphdc9SZkBe"
      },
      "source": [
        "def build_model(hp):\n",
        "  model = tf.keras.models.Sequential()\n",
        "  model.add(tf.keras.layers.Conv1D(\n",
        "      filters = hp.Int('units', min_value=128, max_value=256, step =64),\n",
        "      kernel_size=hp.Int('kernels', min_value=3, max_value=9, step=3),\n",
        "      strides = hp.Int('strides', min_value=1, max_value=3, step=1),\n",
        "      padding='causal', activation='relu', input_shape = [None,1]\n",
        "  ))\n",
        "\n",
        "  model.add(tf.keras.layers.Dense(28, input_shape=[window_size], activation='relu'))\n",
        "  model.add(tf.keras.layers.Dense(10, activation='relu'))\n",
        "  model.add(tf.keras.layers.Dense(1))\n",
        "  model.compile(loss='mse', optimizer=tf.keras.optimizers.SGD(momentum=0.5, lr=1e-5))\n",
        "  return model"
      ],
      "execution_count": null,
      "outputs": []
    },
    {
      "cell_type": "code",
      "metadata": {
        "colab": {
          "base_uri": "https://localhost:8080/"
        },
        "id": "YF3y7Lo2x2xv",
        "outputId": "e28f5e2f-1873-4e58-88ca-5af71be76d7f"
      },
      "source": [
        "tuner  = RandomSearch(build_model, objective='loss', max_trials=10, executions_per_trial=3, directory='my_dirs', project_name='cnn_tunes')\n",
        "tuner.search_space_summary()\n",
        "tuner.search(dataset, epochs=10, verbose=2)"
      ],
      "execution_count": null,
      "outputs": [
        {
          "output_type": "stream",
          "text": [
            "Trial 10 Complete [00h 00m 07s]\n",
            "loss: 65.97730509440105\n",
            "\n",
            "Best loss So Far: 63.4073600769043\n",
            "Total elapsed time: 00h 01m 15s\n",
            "INFO:tensorflow:Oracle triggered exit\n"
          ],
          "name": "stdout"
        }
      ]
    },
    {
      "cell_type": "code",
      "metadata": {
        "id": "EY95gHR5yg0Q",
        "colab": {
          "base_uri": "https://localhost:8080/"
        },
        "outputId": "9d570432-dd1c-4d7f-8422-a4df84cbddcf"
      },
      "source": [
        "tuner.results_summary()"
      ],
      "execution_count": null,
      "outputs": [
        {
          "output_type": "stream",
          "text": [
            "Results summary\n",
            "Results in my_dirs/cnn_tunes\n",
            "Showing 10 best trials\n",
            "Objective(name='loss', direction='min')\n",
            "Trial summary\n",
            "Hyperparameters:\n",
            "units: 256\n",
            "kernels: 9\n",
            "strides: 1\n",
            "Score: 63.4073600769043\n",
            "Trial summary\n",
            "Hyperparameters:\n",
            "units: 192\n",
            "kernels: 6\n",
            "strides: 1\n",
            "Score: 64.22253163655598\n",
            "Trial summary\n",
            "Hyperparameters:\n",
            "units: 128\n",
            "kernels: 9\n",
            "strides: 1\n",
            "Score: 64.73221079508464\n",
            "Trial summary\n",
            "Hyperparameters:\n",
            "units: 128\n",
            "kernels: 6\n",
            "strides: 2\n",
            "Score: 64.7905502319336\n",
            "Trial summary\n",
            "Hyperparameters:\n",
            "units: 256\n",
            "kernels: 6\n",
            "strides: 3\n",
            "Score: 65.97730509440105\n",
            "Trial summary\n",
            "Hyperparameters:\n",
            "units: 256\n",
            "kernels: 6\n",
            "strides: 2\n",
            "Score: 66.31611633300781\n",
            "Trial summary\n",
            "Hyperparameters:\n",
            "units: 128\n",
            "kernels: 9\n",
            "strides: 3\n",
            "Score: 66.60069020589192\n",
            "Trial summary\n",
            "Hyperparameters:\n",
            "units: 192\n",
            "kernels: 3\n",
            "strides: 2\n",
            "Score: 67.14639536539714\n",
            "Trial summary\n",
            "Hyperparameters:\n",
            "units: 192\n",
            "kernels: 6\n",
            "strides: 3\n",
            "Score: 67.23900349934895\n",
            "Trial summary\n",
            "Hyperparameters:\n",
            "units: 256\n",
            "kernels: 3\n",
            "strides: 3\n",
            "Score: 67.84997304280598\n"
          ],
          "name": "stdout"
        }
      ]
    },
    {
      "cell_type": "code",
      "metadata": {
        "colab": {
          "base_uri": "https://localhost:8080/",
          "height": 35
        },
        "id": "wmtu1YIpMF5Z",
        "outputId": "9c66a565-05b7-4631-abd9-f0f74b7bc178"
      },
      "source": [
        "\"\"\"\n",
        "Best results:\n",
        "kernels: 9\n",
        "strides: 1\n",
        "\"\"\""
      ],
      "execution_count": null,
      "outputs": [
        {
          "output_type": "execute_result",
          "data": {
            "application/vnd.google.colaboratory.intrinsic+json": {
              "type": "string"
            },
            "text/plain": [
              "'\\nBest results:\\nkernels: 9\\nstrides: 1\\n'"
            ]
          },
          "metadata": {
            "tags": []
          },
          "execution_count": 39
        }
      ]
    },
    {
      "cell_type": "code",
      "metadata": {
        "colab": {
          "base_uri": "https://localhost:8080/"
        },
        "id": "kIXjs5CEMLuj",
        "outputId": "90d3d262-97a4-4f93-af6b-59e6da205a05"
      },
      "source": [
        "dataset = windowed_dataset(x_train, window_size, batch_size, shuffle_buffer_size)\n",
        "model = tf.keras.models.Sequential([\n",
        "                                           tf.keras.layers.Conv1D(filters=128, kernel_size=9, \n",
        "                                                                  strides=1, padding=\"causal\", activation=\"relu\",\n",
        "                                                                  input_shape=[None, 1]),\n",
        "                                           tf.keras.layers.Dense(28, input_shape=[window_size], \n",
        "                                                                 activation='relu'), \n",
        "                                           tf.keras.layers.Dense(10, activation='relu'),\n",
        "                                           tf.keras.layers.Dense(1)\n",
        "])\n",
        "optimizer = tf.keras.optimizers.SGD(lr=1e-5, momentum=0.5)\n",
        "model.compile(loss='mse', optimizer=optimizer)\n",
        "history = model.fit(dataset, epochs=100, verbose=1)"
      ],
      "execution_count": null,
      "outputs": [
        {
          "output_type": "stream",
          "text": [
            "Epoch 1/100\n",
            "31/31 [==============================] - 1s 4ms/step - loss: 1050.9454\n",
            "Epoch 2/100\n",
            "31/31 [==============================] - 0s 5ms/step - loss: 122.0160\n",
            "Epoch 3/100\n",
            "31/31 [==============================] - 0s 4ms/step - loss: 87.0474\n",
            "Epoch 4/100\n",
            "31/31 [==============================] - 0s 5ms/step - loss: 75.2648\n",
            "Epoch 5/100\n",
            "31/31 [==============================] - 0s 4ms/step - loss: 76.4826\n",
            "Epoch 6/100\n",
            "31/31 [==============================] - 0s 4ms/step - loss: 71.6508\n",
            "Epoch 7/100\n",
            "31/31 [==============================] - 0s 4ms/step - loss: 65.9056\n",
            "Epoch 8/100\n",
            "31/31 [==============================] - 0s 4ms/step - loss: 65.0484\n",
            "Epoch 9/100\n",
            "31/31 [==============================] - 0s 5ms/step - loss: 68.0261\n",
            "Epoch 10/100\n",
            "31/31 [==============================] - 0s 4ms/step - loss: 69.6480\n",
            "Epoch 11/100\n",
            "31/31 [==============================] - 0s 5ms/step - loss: 63.1526\n",
            "Epoch 12/100\n",
            "31/31 [==============================] - 0s 4ms/step - loss: 68.0125\n",
            "Epoch 13/100\n",
            "31/31 [==============================] - 0s 5ms/step - loss: 61.3600\n",
            "Epoch 14/100\n",
            "31/31 [==============================] - 0s 4ms/step - loss: 61.4769\n",
            "Epoch 15/100\n",
            "31/31 [==============================] - 0s 4ms/step - loss: 64.0312\n",
            "Epoch 16/100\n",
            "31/31 [==============================] - 0s 4ms/step - loss: 64.8914\n",
            "Epoch 17/100\n",
            "31/31 [==============================] - 0s 4ms/step - loss: 62.0463\n",
            "Epoch 18/100\n",
            "31/31 [==============================] - 0s 4ms/step - loss: 66.2333\n",
            "Epoch 19/100\n",
            "31/31 [==============================] - 0s 4ms/step - loss: 65.3159\n",
            "Epoch 20/100\n",
            "31/31 [==============================] - 0s 4ms/step - loss: 68.3399\n",
            "Epoch 21/100\n",
            "31/31 [==============================] - 0s 4ms/step - loss: 63.2753\n",
            "Epoch 22/100\n",
            "31/31 [==============================] - 0s 4ms/step - loss: 67.1700\n",
            "Epoch 23/100\n",
            "31/31 [==============================] - 0s 4ms/step - loss: 63.8847\n",
            "Epoch 24/100\n",
            "31/31 [==============================] - 0s 4ms/step - loss: 63.7476\n",
            "Epoch 25/100\n",
            "31/31 [==============================] - 0s 5ms/step - loss: 60.9195\n",
            "Epoch 26/100\n",
            "31/31 [==============================] - 0s 4ms/step - loss: 64.2428\n",
            "Epoch 27/100\n",
            "31/31 [==============================] - 0s 4ms/step - loss: 62.2899\n",
            "Epoch 28/100\n",
            "31/31 [==============================] - 0s 4ms/step - loss: 62.7595\n",
            "Epoch 29/100\n",
            "31/31 [==============================] - 0s 4ms/step - loss: 63.6447\n",
            "Epoch 30/100\n",
            "31/31 [==============================] - 0s 4ms/step - loss: 59.8393\n",
            "Epoch 31/100\n",
            "31/31 [==============================] - 0s 4ms/step - loss: 64.9269\n",
            "Epoch 32/100\n",
            "31/31 [==============================] - 0s 4ms/step - loss: 57.7736\n",
            "Epoch 33/100\n",
            "31/31 [==============================] - 0s 5ms/step - loss: 58.8893\n",
            "Epoch 34/100\n",
            "31/31 [==============================] - 0s 4ms/step - loss: 62.2150\n",
            "Epoch 35/100\n",
            "31/31 [==============================] - 0s 4ms/step - loss: 60.9584\n",
            "Epoch 36/100\n",
            "31/31 [==============================] - 0s 4ms/step - loss: 58.2494\n",
            "Epoch 37/100\n",
            "31/31 [==============================] - 0s 4ms/step - loss: 58.2118\n",
            "Epoch 38/100\n",
            "31/31 [==============================] - 0s 5ms/step - loss: 68.1822\n",
            "Epoch 39/100\n",
            "31/31 [==============================] - 0s 5ms/step - loss: 63.8805\n",
            "Epoch 40/100\n",
            "31/31 [==============================] - 0s 4ms/step - loss: 59.2510\n",
            "Epoch 41/100\n",
            "31/31 [==============================] - 0s 4ms/step - loss: 64.7366\n",
            "Epoch 42/100\n",
            "31/31 [==============================] - 0s 4ms/step - loss: 64.2614\n",
            "Epoch 43/100\n",
            "31/31 [==============================] - 0s 4ms/step - loss: 63.7025\n",
            "Epoch 44/100\n",
            "31/31 [==============================] - 0s 4ms/step - loss: 58.0230\n",
            "Epoch 45/100\n",
            "31/31 [==============================] - 0s 4ms/step - loss: 59.2654\n",
            "Epoch 46/100\n",
            "31/31 [==============================] - 0s 4ms/step - loss: 62.9561\n",
            "Epoch 47/100\n",
            "31/31 [==============================] - 0s 5ms/step - loss: 61.2830\n",
            "Epoch 48/100\n",
            "31/31 [==============================] - 0s 4ms/step - loss: 62.2498\n",
            "Epoch 49/100\n",
            "31/31 [==============================] - 0s 4ms/step - loss: 62.2033\n",
            "Epoch 50/100\n",
            "31/31 [==============================] - 0s 4ms/step - loss: 60.7227\n",
            "Epoch 51/100\n",
            "31/31 [==============================] - 0s 5ms/step - loss: 61.8048\n",
            "Epoch 52/100\n",
            "31/31 [==============================] - 0s 4ms/step - loss: 61.1107\n",
            "Epoch 53/100\n",
            "31/31 [==============================] - 0s 4ms/step - loss: 63.0435\n",
            "Epoch 54/100\n",
            "31/31 [==============================] - 0s 4ms/step - loss: 55.9617\n",
            "Epoch 55/100\n",
            "31/31 [==============================] - 0s 4ms/step - loss: 63.3113\n",
            "Epoch 56/100\n",
            "31/31 [==============================] - 0s 4ms/step - loss: 60.4320\n",
            "Epoch 57/100\n",
            "31/31 [==============================] - 0s 5ms/step - loss: 63.6469\n",
            "Epoch 58/100\n",
            "31/31 [==============================] - 0s 4ms/step - loss: 59.4526\n",
            "Epoch 59/100\n",
            "31/31 [==============================] - 0s 4ms/step - loss: 61.1693\n",
            "Epoch 60/100\n",
            "31/31 [==============================] - 0s 4ms/step - loss: 61.0448\n",
            "Epoch 61/100\n",
            "31/31 [==============================] - 0s 4ms/step - loss: 58.9477\n",
            "Epoch 62/100\n",
            "31/31 [==============================] - 0s 5ms/step - loss: 57.7633\n",
            "Epoch 63/100\n",
            "31/31 [==============================] - 0s 5ms/step - loss: 59.9585\n",
            "Epoch 64/100\n",
            "31/31 [==============================] - 0s 4ms/step - loss: 64.2555\n",
            "Epoch 65/100\n",
            "31/31 [==============================] - 0s 4ms/step - loss: 65.5411\n",
            "Epoch 66/100\n",
            "31/31 [==============================] - 0s 4ms/step - loss: 57.6607\n",
            "Epoch 67/100\n",
            "31/31 [==============================] - 0s 4ms/step - loss: 56.6541\n",
            "Epoch 68/100\n",
            "31/31 [==============================] - 0s 4ms/step - loss: 56.2106\n",
            "Epoch 69/100\n",
            "31/31 [==============================] - 0s 4ms/step - loss: 58.2168\n",
            "Epoch 70/100\n",
            "31/31 [==============================] - 0s 4ms/step - loss: 60.7232\n",
            "Epoch 71/100\n",
            "31/31 [==============================] - 0s 4ms/step - loss: 59.6420\n",
            "Epoch 72/100\n",
            "31/31 [==============================] - 0s 5ms/step - loss: 59.5711\n",
            "Epoch 73/100\n",
            "31/31 [==============================] - 0s 4ms/step - loss: 66.2553\n",
            "Epoch 74/100\n",
            "31/31 [==============================] - 0s 4ms/step - loss: 56.6559\n",
            "Epoch 75/100\n",
            "31/31 [==============================] - 0s 4ms/step - loss: 63.3889\n",
            "Epoch 76/100\n",
            "31/31 [==============================] - 0s 4ms/step - loss: 58.9357\n",
            "Epoch 77/100\n",
            "31/31 [==============================] - 0s 4ms/step - loss: 67.3815\n",
            "Epoch 78/100\n",
            "31/31 [==============================] - 0s 4ms/step - loss: 63.2020\n",
            "Epoch 79/100\n",
            "31/31 [==============================] - 0s 5ms/step - loss: 62.5060\n",
            "Epoch 80/100\n",
            "31/31 [==============================] - 0s 4ms/step - loss: 57.0876\n",
            "Epoch 81/100\n",
            "31/31 [==============================] - 0s 4ms/step - loss: 59.0252\n",
            "Epoch 82/100\n",
            "31/31 [==============================] - 0s 5ms/step - loss: 59.9143\n",
            "Epoch 83/100\n",
            "31/31 [==============================] - 0s 4ms/step - loss: 55.1077\n",
            "Epoch 84/100\n",
            "31/31 [==============================] - 0s 4ms/step - loss: 62.6336\n",
            "Epoch 85/100\n",
            "31/31 [==============================] - 0s 4ms/step - loss: 56.7503\n",
            "Epoch 86/100\n",
            "31/31 [==============================] - 0s 4ms/step - loss: 62.7651\n",
            "Epoch 87/100\n",
            "31/31 [==============================] - 0s 4ms/step - loss: 63.1509\n",
            "Epoch 88/100\n",
            "31/31 [==============================] - 0s 5ms/step - loss: 62.2388\n",
            "Epoch 89/100\n",
            "31/31 [==============================] - 0s 4ms/step - loss: 66.7198\n",
            "Epoch 90/100\n",
            "31/31 [==============================] - 0s 4ms/step - loss: 67.5523\n",
            "Epoch 91/100\n",
            "31/31 [==============================] - 0s 4ms/step - loss: 63.4888\n",
            "Epoch 92/100\n",
            "31/31 [==============================] - 0s 4ms/step - loss: 64.5718\n",
            "Epoch 93/100\n",
            "31/31 [==============================] - 0s 4ms/step - loss: 61.5737\n",
            "Epoch 94/100\n",
            "31/31 [==============================] - 0s 4ms/step - loss: 61.3077\n",
            "Epoch 95/100\n",
            "31/31 [==============================] - 0s 4ms/step - loss: 52.8082\n",
            "Epoch 96/100\n",
            "31/31 [==============================] - 0s 5ms/step - loss: 61.4771\n",
            "Epoch 97/100\n",
            "31/31 [==============================] - 0s 4ms/step - loss: 65.3374\n",
            "Epoch 98/100\n",
            "31/31 [==============================] - 0s 4ms/step - loss: 61.1161\n",
            "Epoch 99/100\n",
            "31/31 [==============================] - 0s 4ms/step - loss: 63.9422\n",
            "Epoch 100/100\n",
            "31/31 [==============================] - 0s 4ms/step - loss: 55.7901\n"
          ],
          "name": "stdout"
        }
      ]
    },
    {
      "cell_type": "code",
      "metadata": {
        "id": "LRMYQ1O9NIiN"
      },
      "source": [
        "results = forecast[split_time- window_size:-1,-1,0]"
      ],
      "execution_count": null,
      "outputs": []
    },
    {
      "cell_type": "code",
      "metadata": {
        "colab": {
          "base_uri": "https://localhost:8080/",
          "height": 388
        },
        "id": "B_SH1rB2Nlks",
        "outputId": "b2425dba-8b44-4f22-aa75-aec4dbeaaa93"
      },
      "source": [
        "plt.figure(figsize=(10,6))\n",
        "plot_series(time_valid, x_valid)\n",
        "plot_series(time_valid, results)"
      ],
      "execution_count": null,
      "outputs": [
        {
          "output_type": "display_data",
          "data": {
            "image/png": "[encoded data removed]",
            "text/plain": [
              "<Figure size 720x432 with 1 Axes>"
            ]
          },
          "metadata": {
            "tags": [],
            "needs_background": "light"
          }
        }
      ]
    },
    {
      "cell_type": "code",
      "metadata": {
        "colab": {
          "base_uri": "https://localhost:8080/",
          "height": 120
        },
        "id": "6TLcLz52NoOs",
        "outputId": "c5005446-c192-4f66-bfc1-927ef7a7702f"
      },
      "source": [
        "from google.colab import drive \n",
        "drive.mount('/content/gdrive', force_remount=True)\n",
        "%cd gdrive\n",
        "%cd My Drive \n",
        "%cd FinTech\n",
        "%cd bitcontext \n",
        "%pwd"
      ],
      "execution_count": null,
      "outputs": [
        {
          "output_type": "stream",
          "text": [
            "Mounted at /content/gdrive\n",
            "/content/gdrive\n",
            "/content/gdrive/My Drive\n",
            "/content/gdrive/My Drive/FinTech\n",
            "/content/gdrive/My Drive/FinTech/bitcontext\n"
          ],
          "name": "stdout"
        },
        {
          "output_type": "execute_result",
          "data": {
            "application/vnd.google.colaboratory.intrinsic+json": {
              "type": "string"
            },
            "text/plain": [
              "'/content/gdrive/My Drive/FinTech/bitcontext'"
            ]
          },
          "metadata": {
            "tags": []
          },
          "execution_count": 13
        }
      ]
    },
    {
      "cell_type": "code",
      "metadata": {
        "id": "8duWw0FbRbVH"
      },
      "source": [
        "def get_data(data_file):\n",
        "  f = open(data_file)\n",
        "  data = f.read()\n",
        "  f.close()\n",
        "  lines = data.split('\\n')\n",
        "  header = lines[0].split(',')\n",
        "  lines = lines[1:]\n",
        "  temperatures = []\n",
        "  for line in lines: \n",
        "    if line:\n",
        "      linedata = line.split(',')\n",
        "      linedata = linedata[1:13]\n",
        "      for item in linedata:\n",
        "        if item:\n",
        "          temperatures.append(float(item))\n",
        "  series = np.asarray(temperatures)\n",
        "  time = np.arange(len(temperatures), dtype=\"float32\")\n",
        "  return time, series"
      ],
      "execution_count": null,
      "outputs": []
    },
    {
      "cell_type": "code",
      "metadata": {
        "id": "cOSW1VjOST7U"
      },
      "source": [
        "time, series = get_data(\"station.csv\")\n",
        "mean = series.mean(axis=0)\n",
        "series -= mean \n",
        "std = series.std(axis=0)\n",
        "series /=std"
      ],
      "execution_count": null,
      "outputs": []
    },
    {
      "cell_type": "code",
      "metadata": {
        "id": "9ss7iWQtSqnW"
      },
      "source": [
        "split_time =792\n",
        "time_train = time[:split_time]\n",
        "x_train = series[:split_time]\n",
        "time_valid = time[split_time:]\n",
        "x_valid = series[split_time:]"
      ],
      "execution_count": null,
      "outputs": []
    },
    {
      "cell_type": "code",
      "metadata": {
        "id": "20JpQkCfUUYx"
      },
      "source": [
        "window_size = 24\n",
        "batch_size=12\n",
        "shuffle_buffer_size  = 48\n",
        "dataset = windowed_dataset(x_train, window_size, batch_size, shuffle_buffer_size)\n",
        "valid_dataset = windowed_dataset(x_valid, window_size, batch_size, shuffle_buffer_size)"
      ],
      "execution_count": null,
      "outputs": []
    },
    {
      "cell_type": "code",
      "metadata": {
        "id": "uDGAbRLOUqwk"
      },
      "source": [
        "#Using RNNs for sequence modeling \n",
        "model = tf.keras.models.Sequential([\n",
        "                                    tf.keras.layers.SimpleRNN(100, return_sequences=True, input_shape = [None, 1]),\n",
        "                                    tf.keras.layers.SimpleRNN(100), \n",
        "                                    tf.keras.layers.Dense(1)\n",
        "])"
      ],
      "execution_count": null,
      "outputs": []
    },
    {
      "cell_type": "code",
      "metadata": {
        "colab": {
          "base_uri": "https://localhost:8080/"
        },
        "id": "jjN5CyljVjDj",
        "outputId": "a8d27c25-08ec-4772-d830-80d5272257d0"
      },
      "source": [
        "optimizer =tf.keras.optimizers.SGD(lr=1.5e-6, momentum=0.9)\n",
        "model.compile(loss = tf.keras.losses.Huber(), optimizer= optimizer, metrics = ['mae'])\n",
        "history =  model.fit(dataset, epochs=100, verbose=1, validation_data= valid_dataset)"
      ],
      "execution_count": null,
      "outputs": [
        {
          "output_type": "stream",
          "text": [
            "Epoch 1/100\n",
            "64/64 [==============================] - 5s 40ms/step - loss: 0.3484 - mae: 0.6572\n",
            "Epoch 2/100\n",
            "64/64 [==============================] - 2s 33ms/step - loss: 0.3437 - mae: 0.6474\n",
            "Epoch 3/100\n",
            "64/64 [==============================] - 2s 36ms/step - loss: 0.3379 - mae: 0.6398\n",
            "Epoch 4/100\n",
            "64/64 [==============================] - 2s 35ms/step - loss: 0.3215 - mae: 0.6191\n",
            "Epoch 5/100\n",
            "64/64 [==============================] - 2s 36ms/step - loss: 0.3285 - mae: 0.6246\n",
            "Epoch 6/100\n",
            "64/64 [==============================] - 2s 35ms/step - loss: 0.3270 - mae: 0.6213\n",
            "Epoch 7/100\n",
            "64/64 [==============================] - 2s 35ms/step - loss: 0.3185 - mae: 0.6096\n",
            "Epoch 8/100\n",
            "64/64 [==============================] - 2s 35ms/step - loss: 0.3171 - mae: 0.6081\n",
            "Epoch 9/100\n",
            "64/64 [==============================] - 2s 35ms/step - loss: 0.3141 - mae: 0.6021\n",
            "Epoch 10/100\n",
            "64/64 [==============================] - 2s 33ms/step - loss: 0.3137 - mae: 0.6004\n",
            "Epoch 11/100\n",
            "64/64 [==============================] - 2s 34ms/step - loss: 0.3049 - mae: 0.5864\n",
            "Epoch 12/100\n",
            "64/64 [==============================] - 2s 36ms/step - loss: 0.3035 - mae: 0.5848\n",
            "Epoch 13/100\n",
            "64/64 [==============================] - 2s 35ms/step - loss: 0.3026 - mae: 0.5824\n",
            "Epoch 14/100\n",
            "64/64 [==============================] - 2s 34ms/step - loss: 0.2970 - mae: 0.5747\n",
            "Epoch 15/100\n",
            "64/64 [==============================] - 2s 35ms/step - loss: 0.2929 - mae: 0.5679\n",
            "Epoch 16/100\n",
            "64/64 [==============================] - 2s 35ms/step - loss: 0.3015 - mae: 0.5773\n",
            "Epoch 17/100\n",
            "64/64 [==============================] - 2s 35ms/step - loss: 0.2947 - mae: 0.5682\n",
            "Epoch 18/100\n",
            "64/64 [==============================] - 2s 34ms/step - loss: 0.2895 - mae: 0.5609\n",
            "Epoch 19/100\n",
            "64/64 [==============================] - 2s 35ms/step - loss: 0.2951 - mae: 0.5678\n",
            "Epoch 20/100\n",
            "64/64 [==============================] - 2s 36ms/step - loss: 0.2970 - mae: 0.5691\n",
            "Epoch 21/100\n",
            "64/64 [==============================] - 2s 38ms/step - loss: 0.2742 - mae: 0.5403\n",
            "Epoch 22/100\n",
            "64/64 [==============================] - 2s 35ms/step - loss: 0.2751 - mae: 0.5419\n",
            "Epoch 23/100\n",
            "64/64 [==============================] - 2s 35ms/step - loss: 0.2854 - mae: 0.5531\n",
            "Epoch 24/100\n",
            "64/64 [==============================] - 2s 35ms/step - loss: 0.2839 - mae: 0.5513\n",
            "Epoch 25/100\n",
            "64/64 [==============================] - 2s 36ms/step - loss: 0.2677 - mae: 0.5301\n",
            "Epoch 26/100\n",
            "64/64 [==============================] - 2s 36ms/step - loss: 0.2696 - mae: 0.5335\n",
            "Epoch 27/100\n",
            "64/64 [==============================] - 2s 34ms/step - loss: 0.2688 - mae: 0.5311\n",
            "Epoch 28/100\n",
            "64/64 [==============================] - 2s 35ms/step - loss: 0.2759 - mae: 0.5393\n",
            "Epoch 29/100\n",
            "64/64 [==============================] - 2s 34ms/step - loss: 0.2752 - mae: 0.5379\n",
            "Epoch 30/100\n",
            "64/64 [==============================] - 2s 36ms/step - loss: 0.2637 - mae: 0.5235\n",
            "Epoch 31/100\n",
            "64/64 [==============================] - 2s 35ms/step - loss: 0.2568 - mae: 0.5119\n",
            "Epoch 32/100\n",
            "64/64 [==============================] - 2s 34ms/step - loss: 0.2622 - mae: 0.5195\n",
            "Epoch 33/100\n",
            "64/64 [==============================] - 2s 35ms/step - loss: 0.2631 - mae: 0.5221\n",
            "Epoch 34/100\n",
            "64/64 [==============================] - 2s 34ms/step - loss: 0.2664 - mae: 0.5230\n",
            "Epoch 35/100\n",
            "64/64 [==============================] - 2s 35ms/step - loss: 0.2545 - mae: 0.5071\n",
            "Epoch 36/100\n",
            "64/64 [==============================] - 2s 35ms/step - loss: 0.2634 - mae: 0.5191\n",
            "Epoch 37/100\n",
            "64/64 [==============================] - 2s 35ms/step - loss: 0.2582 - mae: 0.5111\n",
            "Epoch 38/100\n",
            "64/64 [==============================] - 2s 35ms/step - loss: 0.2460 - mae: 0.4943\n",
            "Epoch 39/100\n",
            "64/64 [==============================] - 2s 36ms/step - loss: 0.2517 - mae: 0.5011\n",
            "Epoch 40/100\n",
            "64/64 [==============================] - 2s 34ms/step - loss: 0.2599 - mae: 0.5094\n",
            "Epoch 41/100\n",
            "64/64 [==============================] - 2s 34ms/step - loss: 0.2478 - mae: 0.4938\n",
            "Epoch 42/100\n",
            "64/64 [==============================] - 2s 34ms/step - loss: 0.2456 - mae: 0.4920\n",
            "Epoch 43/100\n",
            "64/64 [==============================] - 2s 34ms/step - loss: 0.2461 - mae: 0.4914\n",
            "Epoch 44/100\n",
            "64/64 [==============================] - 2s 35ms/step - loss: 0.2436 - mae: 0.4874\n",
            "Epoch 45/100\n",
            "64/64 [==============================] - 2s 36ms/step - loss: 0.2390 - mae: 0.4809\n",
            "Epoch 46/100\n",
            "64/64 [==============================] - 2s 35ms/step - loss: 0.2448 - mae: 0.4890\n",
            "Epoch 47/100\n",
            "64/64 [==============================] - 2s 35ms/step - loss: 0.2395 - mae: 0.4825\n",
            "Epoch 48/100\n",
            "64/64 [==============================] - 2s 35ms/step - loss: 0.2359 - mae: 0.4761\n",
            "Epoch 49/100\n",
            "64/64 [==============================] - 2s 35ms/step - loss: 0.2405 - mae: 0.4807\n",
            "Epoch 50/100\n",
            "64/64 [==============================] - 2s 35ms/step - loss: 0.2256 - mae: 0.4609\n",
            "Epoch 51/100\n",
            "64/64 [==============================] - 2s 35ms/step - loss: 0.2263 - mae: 0.4612\n",
            "Epoch 52/100\n",
            "64/64 [==============================] - 2s 35ms/step - loss: 0.2308 - mae: 0.4666\n",
            "Epoch 53/100\n",
            "64/64 [==============================] - 2s 35ms/step - loss: 0.2341 - mae: 0.4682\n",
            "Epoch 54/100\n",
            "64/64 [==============================] - 2s 36ms/step - loss: 0.2424 - mae: 0.4798\n",
            "Epoch 55/100\n",
            "64/64 [==============================] - 2s 34ms/step - loss: 0.2278 - mae: 0.4606\n",
            "Epoch 56/100\n",
            "64/64 [==============================] - 2s 35ms/step - loss: 0.2221 - mae: 0.4522\n",
            "Epoch 57/100\n",
            "64/64 [==============================] - 2s 36ms/step - loss: 0.2210 - mae: 0.4490\n",
            "Epoch 58/100\n",
            "64/64 [==============================] - 2s 34ms/step - loss: 0.2264 - mae: 0.4577\n",
            "Epoch 59/100\n",
            "64/64 [==============================] - 2s 36ms/step - loss: 0.2306 - mae: 0.4595\n",
            "Epoch 60/100\n",
            "64/64 [==============================] - 2s 36ms/step - loss: 0.2139 - mae: 0.4377\n",
            "Epoch 61/100\n",
            "64/64 [==============================] - 2s 35ms/step - loss: 0.2322 - mae: 0.4603\n",
            "Epoch 62/100\n",
            "64/64 [==============================] - 2s 35ms/step - loss: 0.2194 - mae: 0.4431\n",
            "Epoch 63/100\n",
            "64/64 [==============================] - 2s 37ms/step - loss: 0.2200 - mae: 0.4424\n",
            "Epoch 64/100\n",
            "64/64 [==============================] - 2s 36ms/step - loss: 0.2235 - mae: 0.4474\n",
            "Epoch 65/100\n",
            "64/64 [==============================] - 2s 36ms/step - loss: 0.2223 - mae: 0.4462\n",
            "Epoch 66/100\n",
            "64/64 [==============================] - 2s 35ms/step - loss: 0.2162 - mae: 0.4368\n",
            "Epoch 67/100\n",
            "64/64 [==============================] - 2s 35ms/step - loss: 0.2200 - mae: 0.4434\n",
            "Epoch 68/100\n",
            "64/64 [==============================] - 2s 35ms/step - loss: 0.2239 - mae: 0.4451\n",
            "Epoch 69/100\n",
            "64/64 [==============================] - 2s 36ms/step - loss: 0.2181 - mae: 0.4382\n",
            "Epoch 70/100\n",
            "64/64 [==============================] - 2s 34ms/step - loss: 0.2123 - mae: 0.4296\n",
            "Epoch 71/100\n",
            "64/64 [==============================] - 2s 35ms/step - loss: 0.2195 - mae: 0.4381\n",
            "Epoch 72/100\n",
            "64/64 [==============================] - 2s 35ms/step - loss: 0.2105 - mae: 0.4275\n",
            "Epoch 73/100\n",
            "64/64 [==============================] - 2s 35ms/step - loss: 0.2157 - mae: 0.4324\n",
            "Epoch 74/100\n",
            "64/64 [==============================] - 2s 36ms/step - loss: 0.2208 - mae: 0.4378\n",
            "Epoch 75/100\n",
            "64/64 [==============================] - 2s 34ms/step - loss: 0.2057 - mae: 0.4196\n",
            "Epoch 76/100\n",
            "64/64 [==============================] - 2s 35ms/step - loss: 0.2168 - mae: 0.4336\n",
            "Epoch 77/100\n",
            "64/64 [==============================] - 2s 35ms/step - loss: 0.2003 - mae: 0.4106\n",
            "Epoch 78/100\n",
            "64/64 [==============================] - 2s 36ms/step - loss: 0.2176 - mae: 0.4324\n",
            "Epoch 79/100\n",
            "64/64 [==============================] - 2s 36ms/step - loss: 0.2043 - mae: 0.4145\n",
            "Epoch 80/100\n",
            "64/64 [==============================] - 2s 35ms/step - loss: 0.2035 - mae: 0.4132\n",
            "Epoch 81/100\n",
            "64/64 [==============================] - 2s 36ms/step - loss: 0.2108 - mae: 0.4202\n",
            "Epoch 82/100\n",
            "64/64 [==============================] - 2s 36ms/step - loss: 0.2055 - mae: 0.4167\n",
            "Epoch 83/100\n",
            "64/64 [==============================] - 2s 35ms/step - loss: 0.2083 - mae: 0.4174\n",
            "Epoch 84/100\n",
            "64/64 [==============================] - 2s 35ms/step - loss: 0.2100 - mae: 0.4189\n",
            "Epoch 85/100\n",
            "64/64 [==============================] - 2s 35ms/step - loss: 0.2040 - mae: 0.4112\n",
            "Epoch 86/100\n",
            "64/64 [==============================] - 2s 35ms/step - loss: 0.2182 - mae: 0.4286\n",
            "Epoch 87/100\n",
            "64/64 [==============================] - 2s 34ms/step - loss: 0.2045 - mae: 0.4108\n",
            "Epoch 88/100\n",
            "64/64 [==============================] - 2s 35ms/step - loss: 0.2024 - mae: 0.4075\n",
            "Epoch 89/100\n",
            "64/64 [==============================] - 2s 35ms/step - loss: 0.1977 - mae: 0.4023\n",
            "Epoch 90/100\n",
            "64/64 [==============================] - 2s 35ms/step - loss: 0.1926 - mae: 0.3939\n",
            "Epoch 91/100\n",
            "64/64 [==============================] - 2s 36ms/step - loss: 0.1985 - mae: 0.4016\n",
            "Epoch 92/100\n",
            "64/64 [==============================] - 2s 36ms/step - loss: 0.2036 - mae: 0.4061\n",
            "Epoch 93/100\n",
            "64/64 [==============================] - 2s 36ms/step - loss: 0.1989 - mae: 0.4009\n",
            "Epoch 94/100\n",
            "64/64 [==============================] - 2s 35ms/step - loss: 0.2023 - mae: 0.4041\n",
            "Epoch 95/100\n",
            "64/64 [==============================] - 2s 35ms/step - loss: 0.2007 - mae: 0.4018\n",
            "Epoch 96/100\n",
            "64/64 [==============================] - 2s 35ms/step - loss: 0.1929 - mae: 0.3917\n",
            "Epoch 97/100\n",
            "64/64 [==============================] - 2s 35ms/step - loss: 0.1977 - mae: 0.3960\n",
            "Epoch 98/100\n",
            "64/64 [==============================] - 2s 35ms/step - loss: 0.1946 - mae: 0.3933\n",
            "Epoch 99/100\n",
            "64/64 [==============================] - 2s 34ms/step - loss: 0.1909 - mae: 0.3871\n",
            "Epoch 100/100\n",
            "64/64 [==============================] - 2s 35ms/step - loss: 0.2002 - mae: 0.3979\n"
          ],
          "name": "stdout"
        }
      ]
    },
    {
      "cell_type": "code",
      "metadata": {
        "id": "aWiE8yHSfRoV"
      },
      "source": [
        ""
      ],
      "execution_count": null,
      "outputs": []
    }
  ]
}